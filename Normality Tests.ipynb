{
 "cells": [
  {
   "cell_type": "markdown",
   "id": "282a7e7b-d9d7-4b65-b41e-52f1afe5491e",
   "metadata": {},
   "source": [
    "## ASSIGNMENT-01"
   ]
  },
  {
   "cell_type": "code",
   "execution_count": 2,
   "id": "d2842c7d-3fb0-4ad3-a928-a4ed80880c3c",
   "metadata": {},
   "outputs": [],
   "source": [
    "import numpy as np\n",
    "import pandas as pd\n",
    "import matplotlib.pyplot as plt\n",
    "import seaborn as sea\n",
    "import warnings\n",
    "\n",
    "from sklearn.model_selection import train_test_split\n",
    "from scipy.stats import shapiro\n",
    "from sklearn.impute import SimpleImputer\n",
    "from sklearn.preprocessing import MinMaxScaler\n",
    "from sklearn.feature_selection import mutual_info_regression\n",
    "from sklearn.ensemble import RandomForestClassifier\n",
    "from sklearn.feature_selection import SelectKBest, chi2\n",
    "\n",
    "%matplotlib inline  \n",
    "\n",
    "warnings.filterwarnings(\"ignore\", category=FutureWarning)"
   ]
  },
  {
   "cell_type": "markdown",
   "id": "1b1cb7d1-66da-4e45-bf6f-ccc8833c1d76",
   "metadata": {},
   "source": [
    "### Question 1"
   ]
  },
  {
   "cell_type": "markdown",
   "id": "ee3aa9fc-f316-45af-950d-d79b7c7ba015",
   "metadata": {},
   "source": [
    "**1** Consider the dataset ‘noisy_data.csv’ and apply the following pre-processing techniques and obtain the clean dataset.\n",
    "– Handling missing values by imputation (10 points)\n",
    "– Apply Normality tests to numerical columns and state the hypothesis clearly and comment on the normality of the\n",
    "data (10 points)\n",
    "– Apply encodings for categorical variable and scale the features (10 points)"
   ]
  },
  {
   "cell_type": "code",
   "execution_count": 2,
   "id": "2842f3a0-68de-4b6e-98fc-b1dc456570ad",
   "metadata": {},
   "outputs": [],
   "source": [
    "df=pd.read_csv('/Users/andreapercy/Downloads/noisy_data.csv')"
   ]
  },
  {
   "cell_type": "code",
   "execution_count": 3,
   "id": "9137e656-d81e-48b7-af67-11f1e1ca6eaf",
   "metadata": {},
   "outputs": [
    {
     "data": {
      "text/html": [
       "<div>\n",
       "<style scoped>\n",
       "    .dataframe tbody tr th:only-of-type {\n",
       "        vertical-align: middle;\n",
       "    }\n",
       "\n",
       "    .dataframe tbody tr th {\n",
       "        vertical-align: top;\n",
       "    }\n",
       "\n",
       "    .dataframe thead th {\n",
       "        text-align: right;\n",
       "    }\n",
       "</style>\n",
       "<table border=\"1\" class=\"dataframe\">\n",
       "  <thead>\n",
       "    <tr style=\"text-align: right;\">\n",
       "      <th></th>\n",
       "      <th>Region</th>\n",
       "      <th>Age</th>\n",
       "      <th>Income</th>\n",
       "      <th>Online Shopper</th>\n",
       "    </tr>\n",
       "  </thead>\n",
       "  <tbody>\n",
       "    <tr>\n",
       "      <th>0</th>\n",
       "      <td>India</td>\n",
       "      <td>49.0</td>\n",
       "      <td>86400.0</td>\n",
       "      <td>No</td>\n",
       "    </tr>\n",
       "    <tr>\n",
       "      <th>1</th>\n",
       "      <td>Brazil</td>\n",
       "      <td>32.0</td>\n",
       "      <td>57600.0</td>\n",
       "      <td>Yes</td>\n",
       "    </tr>\n",
       "    <tr>\n",
       "      <th>2</th>\n",
       "      <td>USA</td>\n",
       "      <td>35.0</td>\n",
       "      <td>64800.0</td>\n",
       "      <td>No</td>\n",
       "    </tr>\n",
       "    <tr>\n",
       "      <th>3</th>\n",
       "      <td>Brazil</td>\n",
       "      <td>43.0</td>\n",
       "      <td>73200.0</td>\n",
       "      <td>No</td>\n",
       "    </tr>\n",
       "    <tr>\n",
       "      <th>4</th>\n",
       "      <td>USA</td>\n",
       "      <td>45.0</td>\n",
       "      <td>NaN</td>\n",
       "      <td>Yes</td>\n",
       "    </tr>\n",
       "  </tbody>\n",
       "</table>\n",
       "</div>"
      ],
      "text/plain": [
       "   Region   Age   Income Online Shopper\n",
       "0   India  49.0  86400.0             No\n",
       "1  Brazil  32.0  57600.0            Yes\n",
       "2     USA  35.0  64800.0             No\n",
       "3  Brazil  43.0  73200.0             No\n",
       "4     USA  45.0      NaN            Yes"
      ]
     },
     "execution_count": 3,
     "metadata": {},
     "output_type": "execute_result"
    }
   ],
   "source": [
    "df.head()"
   ]
  },
  {
   "cell_type": "code",
   "execution_count": 4,
   "id": "42347391-1c06-4c5e-adbb-93989f2bcc05",
   "metadata": {},
   "outputs": [
    {
     "data": {
      "text/html": [
       "<div>\n",
       "<style scoped>\n",
       "    .dataframe tbody tr th:only-of-type {\n",
       "        vertical-align: middle;\n",
       "    }\n",
       "\n",
       "    .dataframe tbody tr th {\n",
       "        vertical-align: top;\n",
       "    }\n",
       "\n",
       "    .dataframe thead th {\n",
       "        text-align: right;\n",
       "    }\n",
       "</style>\n",
       "<table border=\"1\" class=\"dataframe\">\n",
       "  <thead>\n",
       "    <tr style=\"text-align: right;\">\n",
       "      <th></th>\n",
       "      <th>Age</th>\n",
       "      <th>Income</th>\n",
       "    </tr>\n",
       "  </thead>\n",
       "  <tbody>\n",
       "    <tr>\n",
       "      <th>count</th>\n",
       "      <td>9.000000</td>\n",
       "      <td>9.000000</td>\n",
       "    </tr>\n",
       "    <tr>\n",
       "      <th>mean</th>\n",
       "      <td>43.777778</td>\n",
       "      <td>76533.333333</td>\n",
       "    </tr>\n",
       "    <tr>\n",
       "      <th>std</th>\n",
       "      <td>7.693793</td>\n",
       "      <td>14718.695594</td>\n",
       "    </tr>\n",
       "    <tr>\n",
       "      <th>min</th>\n",
       "      <td>32.000000</td>\n",
       "      <td>57600.000000</td>\n",
       "    </tr>\n",
       "    <tr>\n",
       "      <th>25%</th>\n",
       "      <td>40.000000</td>\n",
       "      <td>64800.000000</td>\n",
       "    </tr>\n",
       "    <tr>\n",
       "      <th>50%</th>\n",
       "      <td>43.000000</td>\n",
       "      <td>73200.000000</td>\n",
       "    </tr>\n",
       "    <tr>\n",
       "      <th>75%</th>\n",
       "      <td>49.000000</td>\n",
       "      <td>86400.000000</td>\n",
       "    </tr>\n",
       "    <tr>\n",
       "      <th>max</th>\n",
       "      <td>55.000000</td>\n",
       "      <td>99600.000000</td>\n",
       "    </tr>\n",
       "  </tbody>\n",
       "</table>\n",
       "</div>"
      ],
      "text/plain": [
       "             Age        Income\n",
       "count   9.000000      9.000000\n",
       "mean   43.777778  76533.333333\n",
       "std     7.693793  14718.695594\n",
       "min    32.000000  57600.000000\n",
       "25%    40.000000  64800.000000\n",
       "50%    43.000000  73200.000000\n",
       "75%    49.000000  86400.000000\n",
       "max    55.000000  99600.000000"
      ]
     },
     "execution_count": 4,
     "metadata": {},
     "output_type": "execute_result"
    }
   ],
   "source": [
    "df.describe()"
   ]
  },
  {
   "cell_type": "code",
   "execution_count": 5,
   "id": "9d9509d3-e2c5-414a-a986-9abf69079965",
   "metadata": {},
   "outputs": [
    {
     "data": {
      "text/plain": [
       "<bound method DataFrame.info of    Region   Age   Income Online Shopper\n",
       "0   India  49.0  86400.0             No\n",
       "1  Brazil  32.0  57600.0            Yes\n",
       "2     USA  35.0  64800.0             No\n",
       "3  Brazil  43.0  73200.0             No\n",
       "4     USA  45.0      NaN            Yes\n",
       "5   India  40.0  69600.0            Yes\n",
       "6  Brazil   NaN  62400.0             No\n",
       "7   India  53.0  94800.0            Yes\n",
       "8     USA  55.0  99600.0             No\n",
       "9   India  42.0  80400.0            Yes>"
      ]
     },
     "execution_count": 5,
     "metadata": {},
     "output_type": "execute_result"
    }
   ],
   "source": [
    "df.info"
   ]
  },
  {
   "cell_type": "code",
   "execution_count": 6,
   "id": "752f776d-1dd1-4bf0-8450-53fa369dceb1",
   "metadata": {},
   "outputs": [
    {
     "data": {
      "text/html": [
       "<div>\n",
       "<style scoped>\n",
       "    .dataframe tbody tr th:only-of-type {\n",
       "        vertical-align: middle;\n",
       "    }\n",
       "\n",
       "    .dataframe tbody tr th {\n",
       "        vertical-align: top;\n",
       "    }\n",
       "\n",
       "    .dataframe thead th {\n",
       "        text-align: right;\n",
       "    }\n",
       "</style>\n",
       "<table border=\"1\" class=\"dataframe\">\n",
       "  <thead>\n",
       "    <tr style=\"text-align: right;\">\n",
       "      <th></th>\n",
       "      <th>Region</th>\n",
       "      <th>Age</th>\n",
       "      <th>Income</th>\n",
       "      <th>Online Shopper</th>\n",
       "    </tr>\n",
       "  </thead>\n",
       "  <tbody>\n",
       "    <tr>\n",
       "      <th>0</th>\n",
       "      <td>False</td>\n",
       "      <td>False</td>\n",
       "      <td>False</td>\n",
       "      <td>False</td>\n",
       "    </tr>\n",
       "    <tr>\n",
       "      <th>1</th>\n",
       "      <td>False</td>\n",
       "      <td>False</td>\n",
       "      <td>False</td>\n",
       "      <td>False</td>\n",
       "    </tr>\n",
       "    <tr>\n",
       "      <th>2</th>\n",
       "      <td>False</td>\n",
       "      <td>False</td>\n",
       "      <td>False</td>\n",
       "      <td>False</td>\n",
       "    </tr>\n",
       "    <tr>\n",
       "      <th>3</th>\n",
       "      <td>False</td>\n",
       "      <td>False</td>\n",
       "      <td>False</td>\n",
       "      <td>False</td>\n",
       "    </tr>\n",
       "    <tr>\n",
       "      <th>4</th>\n",
       "      <td>False</td>\n",
       "      <td>False</td>\n",
       "      <td>True</td>\n",
       "      <td>False</td>\n",
       "    </tr>\n",
       "    <tr>\n",
       "      <th>5</th>\n",
       "      <td>False</td>\n",
       "      <td>False</td>\n",
       "      <td>False</td>\n",
       "      <td>False</td>\n",
       "    </tr>\n",
       "    <tr>\n",
       "      <th>6</th>\n",
       "      <td>False</td>\n",
       "      <td>True</td>\n",
       "      <td>False</td>\n",
       "      <td>False</td>\n",
       "    </tr>\n",
       "    <tr>\n",
       "      <th>7</th>\n",
       "      <td>False</td>\n",
       "      <td>False</td>\n",
       "      <td>False</td>\n",
       "      <td>False</td>\n",
       "    </tr>\n",
       "    <tr>\n",
       "      <th>8</th>\n",
       "      <td>False</td>\n",
       "      <td>False</td>\n",
       "      <td>False</td>\n",
       "      <td>False</td>\n",
       "    </tr>\n",
       "    <tr>\n",
       "      <th>9</th>\n",
       "      <td>False</td>\n",
       "      <td>False</td>\n",
       "      <td>False</td>\n",
       "      <td>False</td>\n",
       "    </tr>\n",
       "  </tbody>\n",
       "</table>\n",
       "</div>"
      ],
      "text/plain": [
       "   Region    Age  Income  Online Shopper\n",
       "0   False  False   False           False\n",
       "1   False  False   False           False\n",
       "2   False  False   False           False\n",
       "3   False  False   False           False\n",
       "4   False  False    True           False\n",
       "5   False  False   False           False\n",
       "6   False   True   False           False\n",
       "7   False  False   False           False\n",
       "8   False  False   False           False\n",
       "9   False  False   False           False"
      ]
     },
     "execution_count": 6,
     "metadata": {},
     "output_type": "execute_result"
    }
   ],
   "source": [
    "df.isnull()"
   ]
  },
  {
   "cell_type": "code",
   "execution_count": 7,
   "id": "d118962b-48de-478a-8440-6e60e6ee0309",
   "metadata": {},
   "outputs": [
    {
     "name": "stdout",
     "output_type": "stream",
     "text": [
      "[['India' 49.0 86400.0]\n",
      " ['Brazil' 32.0 57600.0]\n",
      " ['USA' 35.0 64800.0]\n",
      " ['Brazil' 43.0 73200.0]\n",
      " ['USA' 45.0 nan]\n",
      " ['India' 40.0 69600.0]\n",
      " ['Brazil' nan 62400.0]\n",
      " ['India' 53.0 94800.0]\n",
      " ['USA' 55.0 99600.0]\n",
      " ['India' 42.0 80400.0]]\n"
     ]
    }
   ],
   "source": [
    "x = df.iloc[:,:-1].values\n",
    "print(x)"
   ]
  },
  {
   "cell_type": "code",
   "execution_count": 8,
   "id": "f438c654-08bf-4054-bf9d-5a3b9abebdfd",
   "metadata": {},
   "outputs": [],
   "source": [
    "y = df.iloc[:,:-1].values"
   ]
  },
  {
   "cell_type": "code",
   "execution_count": 9,
   "id": "01d85e7f-04eb-4e2b-9547-a446c4b80d8e",
   "metadata": {},
   "outputs": [
    {
     "name": "stdout",
     "output_type": "stream",
     "text": [
      "[['India' 49.0 86400.0]\n",
      " ['Brazil' 32.0 57600.0]\n",
      " ['USA' 35.0 64800.0]\n",
      " ['Brazil' 43.0 73200.0]\n",
      " ['USA' 45.0 nan]\n",
      " ['India' 40.0 69600.0]\n",
      " ['Brazil' nan 62400.0]\n",
      " ['India' 53.0 94800.0]\n",
      " ['USA' 55.0 99600.0]\n",
      " ['India' 42.0 80400.0]]\n"
     ]
    }
   ],
   "source": [
    "print(y)"
   ]
  },
  {
   "cell_type": "code",
   "execution_count": 10,
   "id": "beb80bfb-73ab-4fa4-9555-f3c75122128b",
   "metadata": {},
   "outputs": [
    {
     "name": "stdout",
     "output_type": "stream",
     "text": [
      "['Age', 'Income']\n"
     ]
    }
   ],
   "source": [
    "missing=df.columns[df.isnull().any()].tolist()\n",
    "print(missing)"
   ]
  },
  {
   "cell_type": "code",
   "execution_count": 11,
   "id": "1645327d-df66-4b21-b0e8-2ca3b7b28573",
   "metadata": {},
   "outputs": [],
   "source": [
    "df['Income'].fillna(df['Income'].mean(),inplace=True)\n",
    "df['Age'].fillna(df['Age'].mean(),inplace=True)"
   ]
  },
  {
   "cell_type": "markdown",
   "id": "cc0fddd9-e58a-4d44-a520-db287ad43a6f",
   "metadata": {},
   "source": [
    "**Handling missing values by imputation**"
   ]
  },
  {
   "cell_type": "code",
   "execution_count": 12,
   "id": "347fece7-8e49-4620-8d20-707306a3db8e",
   "metadata": {},
   "outputs": [],
   "source": [
    "imputer = SimpleImputer(missing_values =np.nan, strategy='mean')\n",
    "\n",
    "imputer.fit(x[: , 1:3])\n",
    "            \n",
    "x[:,1:3] = imputer.transform(x[:,1:3])"
   ]
  },
  {
   "cell_type": "code",
   "execution_count": 13,
   "id": "fa991d07-cc15-492b-b8ac-8a325a1372ef",
   "metadata": {},
   "outputs": [
    {
     "data": {
      "text/plain": [
       "array([['India', 49.0, 86400.0],\n",
       "       ['Brazil', 32.0, 57600.0],\n",
       "       ['USA', 35.0, 64800.0],\n",
       "       ['Brazil', 43.0, 73200.0],\n",
       "       ['USA', 45.0, 76533.33333333333],\n",
       "       ['India', 40.0, 69600.0],\n",
       "       ['Brazil', 43.77777777777778, 62400.0],\n",
       "       ['India', 53.0, 94800.0],\n",
       "       ['USA', 55.0, 99600.0],\n",
       "       ['India', 42.0, 80400.0]], dtype=object)"
      ]
     },
     "execution_count": 13,
     "metadata": {},
     "output_type": "execute_result"
    }
   ],
   "source": [
    "x"
   ]
  },
  {
   "cell_type": "code",
   "execution_count": 14,
   "id": "4631394d-fd36-4550-9111-75c914cd7119",
   "metadata": {},
   "outputs": [
    {
     "data": {
      "text/html": [
       "<div>\n",
       "<style scoped>\n",
       "    .dataframe tbody tr th:only-of-type {\n",
       "        vertical-align: middle;\n",
       "    }\n",
       "\n",
       "    .dataframe tbody tr th {\n",
       "        vertical-align: top;\n",
       "    }\n",
       "\n",
       "    .dataframe thead th {\n",
       "        text-align: right;\n",
       "    }\n",
       "</style>\n",
       "<table border=\"1\" class=\"dataframe\">\n",
       "  <thead>\n",
       "    <tr style=\"text-align: right;\">\n",
       "      <th></th>\n",
       "      <th>Region</th>\n",
       "      <th>Age</th>\n",
       "      <th>Income</th>\n",
       "      <th>Online Shopper</th>\n",
       "    </tr>\n",
       "  </thead>\n",
       "  <tbody>\n",
       "    <tr>\n",
       "      <th>0</th>\n",
       "      <td>India</td>\n",
       "      <td>49.0</td>\n",
       "      <td>86400.000000</td>\n",
       "      <td>No</td>\n",
       "    </tr>\n",
       "    <tr>\n",
       "      <th>1</th>\n",
       "      <td>Brazil</td>\n",
       "      <td>32.0</td>\n",
       "      <td>57600.000000</td>\n",
       "      <td>Yes</td>\n",
       "    </tr>\n",
       "    <tr>\n",
       "      <th>2</th>\n",
       "      <td>USA</td>\n",
       "      <td>35.0</td>\n",
       "      <td>64800.000000</td>\n",
       "      <td>No</td>\n",
       "    </tr>\n",
       "    <tr>\n",
       "      <th>3</th>\n",
       "      <td>Brazil</td>\n",
       "      <td>43.0</td>\n",
       "      <td>73200.000000</td>\n",
       "      <td>No</td>\n",
       "    </tr>\n",
       "    <tr>\n",
       "      <th>4</th>\n",
       "      <td>USA</td>\n",
       "      <td>45.0</td>\n",
       "      <td>76533.333333</td>\n",
       "      <td>Yes</td>\n",
       "    </tr>\n",
       "  </tbody>\n",
       "</table>\n",
       "</div>"
      ],
      "text/plain": [
       "   Region   Age        Income Online Shopper\n",
       "0   India  49.0  86400.000000             No\n",
       "1  Brazil  32.0  57600.000000            Yes\n",
       "2     USA  35.0  64800.000000             No\n",
       "3  Brazil  43.0  73200.000000             No\n",
       "4     USA  45.0  76533.333333            Yes"
      ]
     },
     "execution_count": 14,
     "metadata": {},
     "output_type": "execute_result"
    }
   ],
   "source": [
    "df.head()"
   ]
  },
  {
   "cell_type": "markdown",
   "id": "db4d2c25-70b6-4812-8599-abc296b9467c",
   "metadata": {},
   "source": [
    "**Applying Normality tests to numerical columns and state the hypothesis clearly and comment on the normality of the data** "
   ]
  },
  {
   "cell_type": "code",
   "execution_count": 15,
   "id": "5bbf9e3f-b6ce-46fb-bebd-aba75a9994ba",
   "metadata": {},
   "outputs": [],
   "source": [
    "data = df['Income']"
   ]
  },
  {
   "cell_type": "code",
   "execution_count": 16,
   "id": "2609c957-e54c-48c3-94e6-a8b98b82e53c",
   "metadata": {},
   "outputs": [],
   "source": [
    "stat,p_value= shapiro(data)"
   ]
  },
  {
   "cell_type": "code",
   "execution_count": 17,
   "id": "e9a2cc1f-cdde-4826-a499-6454df8d9b4e",
   "metadata": {},
   "outputs": [],
   "source": [
    "alpha= 0.05"
   ]
  },
  {
   "cell_type": "code",
   "execution_count": 18,
   "id": "f1920df7-34eb-4641-afc8-2556cc684aaf",
   "metadata": {},
   "outputs": [
    {
     "name": "stdout",
     "output_type": "stream",
     "text": [
      "The income follows normal distribution\n"
     ]
    }
   ],
   "source": [
    "if p_value > alpha:\n",
    "    print(\"The income follows normal distribution\")\n",
    "else:\n",
    "    print(\"The income does't follow normal distribution\")"
   ]
  },
  {
   "cell_type": "markdown",
   "id": "763a959c-d947-4e27-84f2-986388821d66",
   "metadata": {},
   "source": [
    "**Applying encoding for categorical variable and scaling the features**"
   ]
  },
  {
   "cell_type": "code",
   "execution_count": 19,
   "id": "451ccfd8-757c-4e92-a777-12dbc8be3435",
   "metadata": {},
   "outputs": [
    {
     "data": {
      "text/html": [
       "<div>\n",
       "<style scoped>\n",
       "    .dataframe tbody tr th:only-of-type {\n",
       "        vertical-align: middle;\n",
       "    }\n",
       "\n",
       "    .dataframe tbody tr th {\n",
       "        vertical-align: top;\n",
       "    }\n",
       "\n",
       "    .dataframe thead th {\n",
       "        text-align: right;\n",
       "    }\n",
       "</style>\n",
       "<table border=\"1\" class=\"dataframe\">\n",
       "  <thead>\n",
       "    <tr style=\"text-align: right;\">\n",
       "      <th></th>\n",
       "      <th>Region</th>\n",
       "      <th>Age</th>\n",
       "      <th>Income</th>\n",
       "      <th>Online Shopper</th>\n",
       "    </tr>\n",
       "  </thead>\n",
       "  <tbody>\n",
       "    <tr>\n",
       "      <th>0</th>\n",
       "      <td>1</td>\n",
       "      <td>49.0</td>\n",
       "      <td>86400.000000</td>\n",
       "      <td>0</td>\n",
       "    </tr>\n",
       "    <tr>\n",
       "      <th>1</th>\n",
       "      <td>2</td>\n",
       "      <td>32.0</td>\n",
       "      <td>57600.000000</td>\n",
       "      <td>1</td>\n",
       "    </tr>\n",
       "    <tr>\n",
       "      <th>2</th>\n",
       "      <td>0</td>\n",
       "      <td>35.0</td>\n",
       "      <td>64800.000000</td>\n",
       "      <td>0</td>\n",
       "    </tr>\n",
       "    <tr>\n",
       "      <th>3</th>\n",
       "      <td>2</td>\n",
       "      <td>43.0</td>\n",
       "      <td>73200.000000</td>\n",
       "      <td>0</td>\n",
       "    </tr>\n",
       "    <tr>\n",
       "      <th>4</th>\n",
       "      <td>0</td>\n",
       "      <td>45.0</td>\n",
       "      <td>76533.333333</td>\n",
       "      <td>1</td>\n",
       "    </tr>\n",
       "  </tbody>\n",
       "</table>\n",
       "</div>"
      ],
      "text/plain": [
       "   Region   Age        Income  Online Shopper\n",
       "0       1  49.0  86400.000000               0\n",
       "1       2  32.0  57600.000000               1\n",
       "2       0  35.0  64800.000000               0\n",
       "3       2  43.0  73200.000000               0\n",
       "4       0  45.0  76533.333333               1"
      ]
     },
     "execution_count": 19,
     "metadata": {},
     "output_type": "execute_result"
    }
   ],
   "source": [
    " df['Region'] = df['Region'].replace({'USA':0,'India':1,'Brazil':2})\n",
    "df.head(10)\n",
    "df['Online Shopper']=df['Online Shopper'].replace({'Yes':1, 'No':0})\n",
    "df.head()"
   ]
  },
  {
   "cell_type": "code",
   "execution_count": 20,
   "id": "0cb518d8-b022-447f-9ce0-1dd0ccdf89d1",
   "metadata": {},
   "outputs": [],
   "source": [
    "scaler=MinMaxScaler()\n",
    "scaled_data=scaler.fit_transform(df)"
   ]
  },
  {
   "cell_type": "code",
   "execution_count": 21,
   "id": "8718da2b-70f9-4af1-ac5f-b6aec7add9cd",
   "metadata": {},
   "outputs": [
    {
     "name": "stdout",
     "output_type": "stream",
     "text": [
      "[[0.5        0.73913043 0.68571429 0.        ]\n",
      " [1.         0.         0.         1.        ]\n",
      " [0.         0.13043478 0.17142857 0.        ]\n",
      " [1.         0.47826087 0.37142857 0.        ]\n",
      " [0.         0.56521739 0.45079365 1.        ]\n",
      " [0.5        0.34782609 0.28571429 1.        ]\n",
      " [1.         0.51207729 0.11428571 0.        ]\n",
      " [0.5        0.91304348 0.88571429 1.        ]\n",
      " [0.         1.         1.         0.        ]\n",
      " [0.5        0.43478261 0.54285714 1.        ]]\n"
     ]
    }
   ],
   "source": [
    "print(scaled_data)"
   ]
  },
  {
   "cell_type": "markdown",
   "id": "3506aef0-f6c3-4691-941d-a8c71a89ea8e",
   "metadata": {},
   "source": [
    "### Question 2"
   ]
  },
  {
   "cell_type": "markdown",
   "id": "fef18016-8ff3-4c67-9996-1a735c015d5d",
   "metadata": {},
   "source": [
    "\n",
    "Consider the text present in the file ‘wiki.txt’ and Answer the following questions :\n",
    "– Write a program to convert following text into tokens with two tokenization methods such as ‘RegexpTokenizer()’\n",
    "and ‘word_tokenize()’ from NLTK library. (Note :The tokens should not have stop words and punctuation symbols.\n",
    "Feel free to decide about the correct list of stop words; e.g., negative words (don’t) could be important for you.\n",
    "Execute both methods of tokenization along with your code of removing stop words and punctuation.) (10 points)\n",
    "– Write a regular expression to extract all the year mentions in the ‘wiki.txt’ file. (10 points)\n",
    "– State the differences observed in the output of tokenization methods. (10 points)"
   ]
  },
  {
   "cell_type": "code",
   "execution_count": 22,
   "id": "2fccd4b9-b0f1-4646-ba00-acb00a52715b",
   "metadata": {},
   "outputs": [],
   "source": [
    "import re\n",
    "import nltk\n",
    "from nltk.tokenize import word_tokenize,RegexpTokenizer\n",
    "from nltk.corpus import stopwords\n",
    "import string"
   ]
  },
  {
   "cell_type": "code",
   "execution_count": 23,
   "id": "2e962a10-e022-4a30-826a-a8e7ec7c49be",
   "metadata": {},
   "outputs": [],
   "source": [
    "paragraph = \"The history of NLP generally started in the 1950s, although work can be found from earlier periods. In 1950, Alan Turing published an article titled \\\"Computing Machinery and Intelligence\\\" which proposed what is now called the Turing test as a criterion of intelligence.\\n\\nThe Georgetown experiment in 1954 involved fully automatic translation of more than sixty Russian sentences into English. The authors claimed that within three or five years, machine translation would be a solved problem.[2] However, real progress was much slower, and after the ALPAC report in 1966, which found that ten-year-long research had failed to fulfill the expectations, funding for machine translation was dramatically reduced. Little further research in machine translation was conducted until the late 1980s, when the first statistical machine translation systems were developed.\\n\\nSome notably successful NLP systems developed in the 1960s were SHRDLU, a natural-language system working in restricted \\\"blocks worlds\\\" with restricted vocabularies, and ELIZA, a simulation of a Rogerian psychotherapist, written by Joseph Weizenbaum between 1964 and 1966. Using almost no information about human thought or emotion, ELIZA sometimes provided a startlingly human-like interaction. When the \\\"patient\\\" exceeded the very small knowledge base, ELIZA might provide a generic response, for example, responding to \\\"My head hurts\\\" with \\\"Why do you say your head hurts?\\\".\""
   ]
  },
  {
   "cell_type": "code",
   "execution_count": 24,
   "id": "37012215-1aed-4803-b38e-ae294f86b239",
   "metadata": {},
   "outputs": [
    {
     "name": "stdout",
     "output_type": "stream",
     "text": [
      "The history of NLP generally started in the 1950s, although work can be found from earlier periods. In 1950, Alan Turing published an article titled \"Computing Machinery and Intelligence\" which proposed what is now called the Turing test as a criterion of intelligence.\n",
      "\n",
      "The Georgetown experiment in 1954 involved fully automatic translation of more than sixty Russian sentences into English. The authors claimed that within three or five years, machine translation would be a solved problem.[2] However, real progress was much slower, and after the ALPAC report in 1966, which found that ten-year-long research had failed to fulfill the expectations, funding for machine translation was dramatically reduced. Little further research in machine translation was conducted until the late 1980s, when the first statistical machine translation systems were developed.\n",
      "\n",
      "Some notably successful NLP systems developed in the 1960s were SHRDLU, a natural-language system working in restricted \"blocks worlds\" with restricted vocabularies, and ELIZA, a simulation of a Rogerian psychotherapist, written by Joseph Weizenbaum between 1964 and 1966. Using almost no information about human thought or emotion, ELIZA sometimes provided a startlingly human-like interaction. When the \"patient\" exceeded the very small knowledge base, ELIZA might provide a generic response, for example, responding to \"My head hurts\" with \"Why do you say your head hurts?\".\n"
     ]
    }
   ],
   "source": [
    "print(paragraph)"
   ]
  },
  {
   "cell_type": "code",
   "execution_count": 25,
   "id": "d9d5e0bc-e62f-4ffa-994c-591a136c3474",
   "metadata": {},
   "outputs": [
    {
     "data": {
      "text/plain": [
       "'the history of nlp generally started in the 1950s, although work can be found from earlier periods. in 1950, alan turing published an article titled \"computing machinery and intelligence\" which proposed what is now called the turing test as a criterion of intelligence.\\n\\nthe georgetown experiment in 1954 involved fully automatic translation of more than sixty russian sentences into english. the authors claimed that within three or five years, machine translation would be a solved problem.[2] however, real progress was much slower, and after the alpac report in 1966, which found that ten-year-long research had failed to fulfill the expectations, funding for machine translation was dramatically reduced. little further research in machine translation was conducted until the late 1980s, when the first statistical machine translation systems were developed.\\n\\nsome notably successful nlp systems developed in the 1960s were shrdlu, a natural-language system working in restricted \"blocks worlds\" with restricted vocabularies, and eliza, a simulation of a rogerian psychotherapist, written by joseph weizenbaum between 1964 and 1966. using almost no information about human thought or emotion, eliza sometimes provided a startlingly human-like interaction. when the \"patient\" exceeded the very small knowledge base, eliza might provide a generic response, for example, responding to \"my head hurts\" with \"why do you say your head hurts?\".'"
      ]
     },
     "execution_count": 25,
     "metadata": {},
     "output_type": "execute_result"
    }
   ],
   "source": [
    "paragraph=paragraph.lower()\n",
    "paragraph"
   ]
  },
  {
   "cell_type": "code",
   "execution_count": 26,
   "id": "0dc645fa-172d-4427-819f-fdb32a4e5abb",
   "metadata": {},
   "outputs": [
    {
     "data": {
      "text/plain": [
       "'the history of nlp generally started in the 1950s, although work can be found from earlier periods. in 1950, alan turing published an article titled \"computing machinery and intelligence\" which proposed what is now called the turing test as a criterion of intelligence.the georgetown experiment in 1954 involved fully automatic translation of more than sixty russian sentences into english. the authors claimed that within three or five years, machine translation would be a solved problem.[2] however, real progress was much slower, and after the alpac report in 1966, which found that ten-year-long research had failed to fulfill the expectations, funding for machine translation was dramatically reduced. little further research in machine translation was conducted until the late 1980s, when the first statistical machine translation systems were developed.some notably successful nlp systems developed in the 1960s were shrdlu, a natural-language system working in restricted \"blocks worlds\" with restricted vocabularies, and eliza, a simulation of a rogerian psychotherapist, written by joseph weizenbaum between 1964 and 1966. using almost no information about human thought or emotion, eliza sometimes provided a startlingly human-like interaction. when the \"patient\" exceeded the very small knowledge base, eliza might provide a generic response, for example, responding to \"my head hurts\" with \"why do you say your head hurts?\".'"
      ]
     },
     "execution_count": 26,
     "metadata": {},
     "output_type": "execute_result"
    }
   ],
   "source": [
    "for i in paragraph:\n",
    "    paragraph=paragraph.replace(\"\\n\",'')\n",
    "paragraph"
   ]
  },
  {
   "cell_type": "code",
   "execution_count": 27,
   "id": "4b57db82-9bab-4b69-9111-1e55e28c85ba",
   "metadata": {},
   "outputs": [],
   "source": [
    "tokens = word_tokenize(paragraph)"
   ]
  },
  {
   "cell_type": "code",
   "execution_count": 28,
   "id": "709c5f7a-a6d1-4889-b53e-0358a49f8c63",
   "metadata": {},
   "outputs": [
    {
     "name": "stdout",
     "output_type": "stream",
     "text": [
      "['the', 'history', 'of', 'nlp', 'generally', 'started', 'in', 'the', '1950s', ',', 'although', 'work', 'can', 'be', 'found', 'from', 'earlier', 'periods', '.', 'in', '1950', ',', 'alan', 'turing', 'published', 'an', 'article', 'titled', '``', 'computing', 'machinery', 'and', 'intelligence', \"''\", 'which', 'proposed', 'what', 'is', 'now', 'called', 'the', 'turing', 'test', 'as', 'a', 'criterion', 'of', 'intelligence.the', 'georgetown', 'experiment', 'in', '1954', 'involved', 'fully', 'automatic', 'translation', 'of', 'more', 'than', 'sixty', 'russian', 'sentences', 'into', 'english', '.', 'the', 'authors', 'claimed', 'that', 'within', 'three', 'or', 'five', 'years', ',', 'machine', 'translation', 'would', 'be', 'a', 'solved', 'problem', '.', '[', '2', ']', 'however', ',', 'real', 'progress', 'was', 'much', 'slower', ',', 'and', 'after', 'the', 'alpac', 'report', 'in', '1966', ',', 'which', 'found', 'that', 'ten-year-long', 'research', 'had', 'failed', 'to', 'fulfill', 'the', 'expectations', ',', 'funding', 'for', 'machine', 'translation', 'was', 'dramatically', 'reduced', '.', 'little', 'further', 'research', 'in', 'machine', 'translation', 'was', 'conducted', 'until', 'the', 'late', '1980s', ',', 'when', 'the', 'first', 'statistical', 'machine', 'translation', 'systems', 'were', 'developed.some', 'notably', 'successful', 'nlp', 'systems', 'developed', 'in', 'the', '1960s', 'were', 'shrdlu', ',', 'a', 'natural-language', 'system', 'working', 'in', 'restricted', '``', 'blocks', 'worlds', \"''\", 'with', 'restricted', 'vocabularies', ',', 'and', 'eliza', ',', 'a', 'simulation', 'of', 'a', 'rogerian', 'psychotherapist', ',', 'written', 'by', 'joseph', 'weizenbaum', 'between', '1964', 'and', '1966.', 'using', 'almost', 'no', 'information', 'about', 'human', 'thought', 'or', 'emotion', ',', 'eliza', 'sometimes', 'provided', 'a', 'startlingly', 'human-like', 'interaction', '.', 'when', 'the', '``', 'patient', \"''\", 'exceeded', 'the', 'very', 'small', 'knowledge', 'base', ',', 'eliza', 'might', 'provide', 'a', 'generic', 'response', ',', 'for', 'example', ',', 'responding', 'to', '``', 'my', 'head', 'hurts', \"''\", 'with', '``', 'why', 'do', 'you', 'say', 'your', 'head', 'hurts', '?', '``', '.']\n",
      "246\n"
     ]
    }
   ],
   "source": [
    "print(tokens)\n",
    "count=len(tokens)\n",
    "print(count)"
   ]
  },
  {
   "cell_type": "markdown",
   "id": "af5a4fa9-3021-4fd6-94cf-b18808b5f6a8",
   "metadata": {},
   "source": [
    "**RegexpTokenizer**"
   ]
  },
  {
   "cell_type": "code",
   "execution_count": 29,
   "id": "273f60ae-2903-4920-898c-f596eadeb287",
   "metadata": {},
   "outputs": [
    {
     "name": "stdout",
     "output_type": "stream",
     "text": [
      "['the', 'history', 'of', 'nlp', 'generally', 'started', 'in', 'the', '1950s', 'although', 'work', 'can', 'be', 'found', 'from', 'earlier', 'periods', 'in', '1950', 'alan', 'turing', 'published', 'an', 'article', 'titled', 'computing', 'machinery', 'and', 'intelligence', 'which', 'proposed', 'what', 'is', 'now', 'called', 'the', 'turing', 'test', 'as', 'a', 'criterion', 'of', 'intelligence', 'the', 'georgetown', 'experiment', 'in', '1954', 'involved', 'fully', 'automatic', 'translation', 'of', 'more', 'than', 'sixty', 'russian', 'sentences', 'into', 'english', 'the', 'authors', 'claimed', 'that', 'within', 'three', 'or', 'five', 'years', 'machine', 'translation', 'would', 'be', 'a', 'solved', 'problem', '2', 'however', 'real', 'progress', 'was', 'much', 'slower', 'and', 'after', 'the', 'alpac', 'report', 'in', '1966', 'which', 'found', 'that', 'ten', 'year', 'long', 'research', 'had', 'failed', 'to', 'fulfill', 'the', 'expectations', 'funding', 'for', 'machine', 'translation', 'was', 'dramatically', 'reduced', 'little', 'further', 'research', 'in', 'machine', 'translation', 'was', 'conducted', 'until', 'the', 'late', '1980s', 'when', 'the', 'first', 'statistical', 'machine', 'translation', 'systems', 'were', 'developed', 'some', 'notably', 'successful', 'nlp', 'systems', 'developed', 'in', 'the', '1960s', 'were', 'shrdlu', 'a', 'natural', 'language', 'system', 'working', 'in', 'restricted', 'blocks', 'worlds', 'with', 'restricted', 'vocabularies', 'and', 'eliza', 'a', 'simulation', 'of', 'a', 'rogerian', 'psychotherapist', 'written', 'by', 'joseph', 'weizenbaum', 'between', '1964', 'and', '1966', 'using', 'almost', 'no', 'information', 'about', 'human', 'thought', 'or', 'emotion', 'eliza', 'sometimes', 'provided', 'a', 'startlingly', 'human', 'like', 'interaction', 'when', 'the', 'patient', 'exceeded', 'the', 'very', 'small', 'knowledge', 'base', 'eliza', 'might', 'provide', 'a', 'generic', 'response', 'for', 'example', 'responding', 'to', 'my', 'head', 'hurts', 'with', 'why', 'do', 'you', 'say', 'your', 'head', 'hurts']\n",
      "217\n"
     ]
    }
   ],
   "source": [
    "tokenizer = RegexpTokenizer(r'\\w+')\n",
    "tokens1 = tokenizer.tokenize(paragraph)\n",
    "print(tokens1)\n",
    "count1=len(tokens1)\n",
    "print(count1)"
   ]
  },
  {
   "cell_type": "code",
   "execution_count": 30,
   "id": "f0ca930d-360a-44c1-9ff1-d0e37cc33160",
   "metadata": {},
   "outputs": [],
   "source": [
    "stop_words = {\"a\",\"the\",'an',\"in\",\"which\",\"were\",\"of\",\"is\",\"was\",\"or\",\"be\",\"and\",\"to\",\"as\",\"very\",\"as\"}"
   ]
  },
  {
   "cell_type": "code",
   "execution_count": 31,
   "id": "39c52017-304c-4fcc-b1e7-a5571d16c3e3",
   "metadata": {},
   "outputs": [
    {
     "data": {
      "text/plain": [
       "['history',\n",
       " 'nlp',\n",
       " 'generally',\n",
       " 'started',\n",
       " '1950s',\n",
       " 'although',\n",
       " 'work',\n",
       " 'can',\n",
       " 'found',\n",
       " 'from',\n",
       " 'earlier',\n",
       " 'periods',\n",
       " '1950',\n",
       " 'alan',\n",
       " 'turing',\n",
       " 'published',\n",
       " 'article',\n",
       " 'titled',\n",
       " 'computing',\n",
       " 'machinery',\n",
       " 'intelligence',\n",
       " 'proposed',\n",
       " 'what',\n",
       " 'now',\n",
       " 'called',\n",
       " 'turing',\n",
       " 'test',\n",
       " 'criterion',\n",
       " 'intelligence',\n",
       " 'georgetown',\n",
       " 'experiment',\n",
       " '1954',\n",
       " 'involved',\n",
       " 'fully',\n",
       " 'automatic',\n",
       " 'translation',\n",
       " 'more',\n",
       " 'than',\n",
       " 'sixty',\n",
       " 'russian',\n",
       " 'sentences',\n",
       " 'into',\n",
       " 'english',\n",
       " 'authors',\n",
       " 'claimed',\n",
       " 'that',\n",
       " 'within',\n",
       " 'three',\n",
       " 'five',\n",
       " 'years',\n",
       " 'machine',\n",
       " 'translation',\n",
       " 'would',\n",
       " 'solved',\n",
       " 'problem',\n",
       " '2',\n",
       " 'however',\n",
       " 'real',\n",
       " 'progress',\n",
       " 'much',\n",
       " 'slower',\n",
       " 'after',\n",
       " 'alpac',\n",
       " 'report',\n",
       " '1966',\n",
       " 'found',\n",
       " 'that',\n",
       " 'ten',\n",
       " 'year',\n",
       " 'long',\n",
       " 'research',\n",
       " 'had',\n",
       " 'failed',\n",
       " 'fulfill',\n",
       " 'expectations',\n",
       " 'funding',\n",
       " 'for',\n",
       " 'machine',\n",
       " 'translation',\n",
       " 'dramatically',\n",
       " 'reduced',\n",
       " 'little',\n",
       " 'further',\n",
       " 'research',\n",
       " 'machine',\n",
       " 'translation',\n",
       " 'conducted',\n",
       " 'until',\n",
       " 'late',\n",
       " '1980s',\n",
       " 'when',\n",
       " 'first',\n",
       " 'statistical',\n",
       " 'machine',\n",
       " 'translation',\n",
       " 'systems',\n",
       " 'developed',\n",
       " 'some',\n",
       " 'notably',\n",
       " 'successful',\n",
       " 'nlp',\n",
       " 'systems',\n",
       " 'developed',\n",
       " '1960s',\n",
       " 'shrdlu',\n",
       " 'natural',\n",
       " 'language',\n",
       " 'system',\n",
       " 'working',\n",
       " 'restricted',\n",
       " 'blocks',\n",
       " 'worlds',\n",
       " 'with',\n",
       " 'restricted',\n",
       " 'vocabularies',\n",
       " 'eliza',\n",
       " 'simulation',\n",
       " 'rogerian',\n",
       " 'psychotherapist',\n",
       " 'written',\n",
       " 'by',\n",
       " 'joseph',\n",
       " 'weizenbaum',\n",
       " 'between',\n",
       " '1964',\n",
       " '1966',\n",
       " 'using',\n",
       " 'almost',\n",
       " 'no',\n",
       " 'information',\n",
       " 'about',\n",
       " 'human',\n",
       " 'thought',\n",
       " 'emotion',\n",
       " 'eliza',\n",
       " 'sometimes',\n",
       " 'provided',\n",
       " 'startlingly',\n",
       " 'human',\n",
       " 'like',\n",
       " 'interaction',\n",
       " 'when',\n",
       " 'patient',\n",
       " 'exceeded',\n",
       " 'small',\n",
       " 'knowledge',\n",
       " 'base',\n",
       " 'eliza',\n",
       " 'might',\n",
       " 'provide',\n",
       " 'generic',\n",
       " 'response',\n",
       " 'for',\n",
       " 'example',\n",
       " 'responding',\n",
       " 'my',\n",
       " 'head',\n",
       " 'hurts',\n",
       " 'with',\n",
       " 'why',\n",
       " 'do',\n",
       " 'you',\n",
       " 'say',\n",
       " 'your',\n",
       " 'head',\n",
       " 'hurts']"
      ]
     },
     "execution_count": 31,
     "metadata": {},
     "output_type": "execute_result"
    }
   ],
   "source": [
    "words_with_no_sw=[i for i in tokens1 if i not in stop_words]\n",
    "words_with_no_sw"
   ]
  },
  {
   "cell_type": "code",
   "execution_count": 32,
   "id": "5fd85887-0b06-4754-ab01-74e2543c4d7c",
   "metadata": {},
   "outputs": [
    {
     "data": {
      "text/plain": [
       "'the history of nlp generally started in the 1950s although work can be found from earlier periods in 1950 alan turing published an article titled computing machinery and intelligence which proposed what is now called the turing test as a criterion of intelligencethe georgetown experiment in 1954 involved fully automatic translation of more than sixty russian sentences into english the authors claimed that within three or five years machine translation would be a solved problem2 however real progress was much slower and after the alpac report in 1966 which found that tenyearlong research had failed to fulfill the expectations funding for machine translation was dramatically reduced little further research in machine translation was conducted until the late 1980s when the first statistical machine translation systems were developedsome notably successful nlp systems developed in the 1960s were shrdlu a naturallanguage system working in restricted blocks worlds with restricted vocabularies and eliza a simulation of a rogerian psychotherapist written by joseph weizenbaum between 1964 and 1966 using almost no information about human thought or emotion eliza sometimes provided a startlingly humanlike interaction when the patient exceeded the very small knowledge base eliza might provide a generic response for example responding to my head hurts with why do you say your head hurts'"
      ]
     },
     "execution_count": 32,
     "metadata": {},
     "output_type": "execute_result"
    }
   ],
   "source": [
    "for punc in string.punctuation:\n",
    "    paragraph=paragraph.replace(punc,\"\") \n",
    "paragraph"
   ]
  },
  {
   "cell_type": "markdown",
   "id": "03c5d318-6bd9-4e06-9f77-965218bad6df",
   "metadata": {},
   "source": [
    "**Expression to extract all the year**"
   ]
  },
  {
   "cell_type": "code",
   "execution_count": 33,
   "id": "ca8500bd-a0ef-47a9-8cc1-22c231cbdc41",
   "metadata": {},
   "outputs": [
    {
     "data": {
      "text/plain": [
       "['1950', '1950', '1954', '2', '1966', '1980', '1960', '1964', '1966']"
      ]
     },
     "execution_count": 33,
     "metadata": {},
     "output_type": "execute_result"
    }
   ],
   "source": [
    "numbers = re.findall(r'\\d+', paragraph)\n",
    "numbers"
   ]
  },
  {
   "cell_type": "markdown",
   "id": "6f3b61b4-5bc1-4b69-bc7e-bc045aafaea7",
   "metadata": {},
   "source": [
    "*Differences observed in the output of tokenization methods*"
   ]
  },
  {
   "cell_type": "markdown",
   "id": "89988c8e-6899-4c99-ba52-e9def6771df3",
   "metadata": {},
   "source": [
    "**The major difference which was found among the two types of tokenization was that in word_tokenize() the punctions were treated as separate tokens while in RegexpTokenizer() the punctuation marks weren't treated as a token.**"
   ]
  },
  {
   "cell_type": "markdown",
   "id": "4811362f-cb46-4ae3-9817-11821daf7012",
   "metadata": {},
   "source": [
    "### Question 3"
   ]
  },
  {
   "cell_type": "markdown",
   "id": "bd209024-8dd8-42e6-bbfd-8a9ea2e035ed",
   "metadata": {},
   "source": [
    " Consider this dataset from kaggle. (Download the dataset from following link : https://www.kaggle.com/dansbecker/\n",
    "melbourne-housing-snapshot/home) and answer the following questions :\n",
    "– Apply the feature selection techniques over the melbourne-housing -dataset namely (20 points):\n",
    "∗ Correlation\n",
    "∗ Chi-Square\n",
    "∗ Mutual-Information\n",
    "∗ Random Forest feature importance\n",
    "– Compare the importance of selected features using bar chart (10 points).\n",
    "– Comment on the results obtained from various feature selection techniques and which is the best and worst feature\n",
    "selection selection technique on the given dataset (10 points)."
   ]
  },
  {
   "cell_type": "code",
   "execution_count": 5,
   "id": "f04ba39c-47d5-4279-b992-be8a365af3ba",
   "metadata": {},
   "outputs": [
    {
     "data": {
      "text/html": [
       "<div>\n",
       "<style scoped>\n",
       "    .dataframe tbody tr th:only-of-type {\n",
       "        vertical-align: middle;\n",
       "    }\n",
       "\n",
       "    .dataframe tbody tr th {\n",
       "        vertical-align: top;\n",
       "    }\n",
       "\n",
       "    .dataframe thead th {\n",
       "        text-align: right;\n",
       "    }\n",
       "</style>\n",
       "<table border=\"1\" class=\"dataframe\">\n",
       "  <thead>\n",
       "    <tr style=\"text-align: right;\">\n",
       "      <th></th>\n",
       "      <th>Suburb</th>\n",
       "      <th>Address</th>\n",
       "      <th>Rooms</th>\n",
       "      <th>Type</th>\n",
       "      <th>Price</th>\n",
       "      <th>Method</th>\n",
       "      <th>SellerG</th>\n",
       "      <th>Date</th>\n",
       "      <th>Distance</th>\n",
       "      <th>Postcode</th>\n",
       "      <th>...</th>\n",
       "      <th>Bathroom</th>\n",
       "      <th>Car</th>\n",
       "      <th>Landsize</th>\n",
       "      <th>BuildingArea</th>\n",
       "      <th>YearBuilt</th>\n",
       "      <th>CouncilArea</th>\n",
       "      <th>Lattitude</th>\n",
       "      <th>Longtitude</th>\n",
       "      <th>Regionname</th>\n",
       "      <th>Propertycount</th>\n",
       "    </tr>\n",
       "  </thead>\n",
       "  <tbody>\n",
       "    <tr>\n",
       "      <th>0</th>\n",
       "      <td>Abbotsford</td>\n",
       "      <td>85 Turner St</td>\n",
       "      <td>2</td>\n",
       "      <td>h</td>\n",
       "      <td>1480000.0</td>\n",
       "      <td>S</td>\n",
       "      <td>Biggin</td>\n",
       "      <td>3/12/2016</td>\n",
       "      <td>2.5</td>\n",
       "      <td>3067.0</td>\n",
       "      <td>...</td>\n",
       "      <td>1.0</td>\n",
       "      <td>1.0</td>\n",
       "      <td>202.0</td>\n",
       "      <td>NaN</td>\n",
       "      <td>NaN</td>\n",
       "      <td>Yarra</td>\n",
       "      <td>-37.7996</td>\n",
       "      <td>144.9984</td>\n",
       "      <td>Northern Metropolitan</td>\n",
       "      <td>4019.0</td>\n",
       "    </tr>\n",
       "    <tr>\n",
       "      <th>1</th>\n",
       "      <td>Abbotsford</td>\n",
       "      <td>25 Bloomburg St</td>\n",
       "      <td>2</td>\n",
       "      <td>h</td>\n",
       "      <td>1035000.0</td>\n",
       "      <td>S</td>\n",
       "      <td>Biggin</td>\n",
       "      <td>4/02/2016</td>\n",
       "      <td>2.5</td>\n",
       "      <td>3067.0</td>\n",
       "      <td>...</td>\n",
       "      <td>1.0</td>\n",
       "      <td>0.0</td>\n",
       "      <td>156.0</td>\n",
       "      <td>79.0</td>\n",
       "      <td>1900.0</td>\n",
       "      <td>Yarra</td>\n",
       "      <td>-37.8079</td>\n",
       "      <td>144.9934</td>\n",
       "      <td>Northern Metropolitan</td>\n",
       "      <td>4019.0</td>\n",
       "    </tr>\n",
       "    <tr>\n",
       "      <th>2</th>\n",
       "      <td>Abbotsford</td>\n",
       "      <td>5 Charles St</td>\n",
       "      <td>3</td>\n",
       "      <td>h</td>\n",
       "      <td>1465000.0</td>\n",
       "      <td>SP</td>\n",
       "      <td>Biggin</td>\n",
       "      <td>4/03/2017</td>\n",
       "      <td>2.5</td>\n",
       "      <td>3067.0</td>\n",
       "      <td>...</td>\n",
       "      <td>2.0</td>\n",
       "      <td>0.0</td>\n",
       "      <td>134.0</td>\n",
       "      <td>150.0</td>\n",
       "      <td>1900.0</td>\n",
       "      <td>Yarra</td>\n",
       "      <td>-37.8093</td>\n",
       "      <td>144.9944</td>\n",
       "      <td>Northern Metropolitan</td>\n",
       "      <td>4019.0</td>\n",
       "    </tr>\n",
       "    <tr>\n",
       "      <th>3</th>\n",
       "      <td>Abbotsford</td>\n",
       "      <td>40 Federation La</td>\n",
       "      <td>3</td>\n",
       "      <td>h</td>\n",
       "      <td>850000.0</td>\n",
       "      <td>PI</td>\n",
       "      <td>Biggin</td>\n",
       "      <td>4/03/2017</td>\n",
       "      <td>2.5</td>\n",
       "      <td>3067.0</td>\n",
       "      <td>...</td>\n",
       "      <td>2.0</td>\n",
       "      <td>1.0</td>\n",
       "      <td>94.0</td>\n",
       "      <td>NaN</td>\n",
       "      <td>NaN</td>\n",
       "      <td>Yarra</td>\n",
       "      <td>-37.7969</td>\n",
       "      <td>144.9969</td>\n",
       "      <td>Northern Metropolitan</td>\n",
       "      <td>4019.0</td>\n",
       "    </tr>\n",
       "    <tr>\n",
       "      <th>4</th>\n",
       "      <td>Abbotsford</td>\n",
       "      <td>55a Park St</td>\n",
       "      <td>4</td>\n",
       "      <td>h</td>\n",
       "      <td>1600000.0</td>\n",
       "      <td>VB</td>\n",
       "      <td>Nelson</td>\n",
       "      <td>4/06/2016</td>\n",
       "      <td>2.5</td>\n",
       "      <td>3067.0</td>\n",
       "      <td>...</td>\n",
       "      <td>1.0</td>\n",
       "      <td>2.0</td>\n",
       "      <td>120.0</td>\n",
       "      <td>142.0</td>\n",
       "      <td>2014.0</td>\n",
       "      <td>Yarra</td>\n",
       "      <td>-37.8072</td>\n",
       "      <td>144.9941</td>\n",
       "      <td>Northern Metropolitan</td>\n",
       "      <td>4019.0</td>\n",
       "    </tr>\n",
       "  </tbody>\n",
       "</table>\n",
       "<p>5 rows × 21 columns</p>\n",
       "</div>"
      ],
      "text/plain": [
       "       Suburb           Address  Rooms Type      Price Method SellerG  \\\n",
       "0  Abbotsford      85 Turner St      2    h  1480000.0      S  Biggin   \n",
       "1  Abbotsford   25 Bloomburg St      2    h  1035000.0      S  Biggin   \n",
       "2  Abbotsford      5 Charles St      3    h  1465000.0     SP  Biggin   \n",
       "3  Abbotsford  40 Federation La      3    h   850000.0     PI  Biggin   \n",
       "4  Abbotsford       55a Park St      4    h  1600000.0     VB  Nelson   \n",
       "\n",
       "        Date  Distance  Postcode  ...  Bathroom  Car  Landsize  BuildingArea  \\\n",
       "0  3/12/2016       2.5    3067.0  ...       1.0  1.0     202.0           NaN   \n",
       "1  4/02/2016       2.5    3067.0  ...       1.0  0.0     156.0          79.0   \n",
       "2  4/03/2017       2.5    3067.0  ...       2.0  0.0     134.0         150.0   \n",
       "3  4/03/2017       2.5    3067.0  ...       2.0  1.0      94.0           NaN   \n",
       "4  4/06/2016       2.5    3067.0  ...       1.0  2.0     120.0         142.0   \n",
       "\n",
       "   YearBuilt  CouncilArea Lattitude  Longtitude             Regionname  \\\n",
       "0        NaN        Yarra  -37.7996    144.9984  Northern Metropolitan   \n",
       "1     1900.0        Yarra  -37.8079    144.9934  Northern Metropolitan   \n",
       "2     1900.0        Yarra  -37.8093    144.9944  Northern Metropolitan   \n",
       "3        NaN        Yarra  -37.7969    144.9969  Northern Metropolitan   \n",
       "4     2014.0        Yarra  -37.8072    144.9941  Northern Metropolitan   \n",
       "\n",
       "  Propertycount  \n",
       "0        4019.0  \n",
       "1        4019.0  \n",
       "2        4019.0  \n",
       "3        4019.0  \n",
       "4        4019.0  \n",
       "\n",
       "[5 rows x 21 columns]"
      ]
     },
     "execution_count": 5,
     "metadata": {},
     "output_type": "execute_result"
    }
   ],
   "source": [
    "dataf=pd.read_csv('/Users/andreapercy/Downloads/melb_data.csv')\n",
    "dataf.head()"
   ]
  },
  {
   "cell_type": "code",
   "execution_count": 6,
   "id": "4a8f569e-89a8-43da-9d56-a0afeebbbc9f",
   "metadata": {},
   "outputs": [],
   "source": [
    "todrop = ['Address', 'Type', 'Suburb','Date' 'Method', 'SellerG', 'CouncilArea', 'Lattitude', 'Longtitude','Postcode', 'Regionname']\n",
    "columns_to_drop = [col for col in todrop if col in dataf.columns]\n",
    "dataf.drop(columns_to_drop, axis=1, inplace=True)\n",
    "to_drop = [col for col in todrop if col in dataf.columns]\n",
    "dataf.drop('Date', axis=1, inplace=True)\n",
    "dataf.drop('Method', axis=1, inplace=True)"
   ]
  },
  {
   "cell_type": "code",
   "execution_count": 7,
   "id": "3f0637ef-c8c7-4585-bc10-34ae4dac458e",
   "metadata": {},
   "outputs": [
    {
     "data": {
      "text/html": [
       "<div>\n",
       "<style scoped>\n",
       "    .dataframe tbody tr th:only-of-type {\n",
       "        vertical-align: middle;\n",
       "    }\n",
       "\n",
       "    .dataframe tbody tr th {\n",
       "        vertical-align: top;\n",
       "    }\n",
       "\n",
       "    .dataframe thead th {\n",
       "        text-align: right;\n",
       "    }\n",
       "</style>\n",
       "<table border=\"1\" class=\"dataframe\">\n",
       "  <thead>\n",
       "    <tr style=\"text-align: right;\">\n",
       "      <th></th>\n",
       "      <th>Rooms</th>\n",
       "      <th>Price</th>\n",
       "      <th>Distance</th>\n",
       "      <th>Bedroom2</th>\n",
       "      <th>Bathroom</th>\n",
       "      <th>Car</th>\n",
       "      <th>Landsize</th>\n",
       "      <th>BuildingArea</th>\n",
       "      <th>YearBuilt</th>\n",
       "      <th>Propertycount</th>\n",
       "    </tr>\n",
       "  </thead>\n",
       "  <tbody>\n",
       "    <tr>\n",
       "      <th>0</th>\n",
       "      <td>2</td>\n",
       "      <td>1480000.0</td>\n",
       "      <td>2.5</td>\n",
       "      <td>2.0</td>\n",
       "      <td>1.0</td>\n",
       "      <td>1.0</td>\n",
       "      <td>202.0</td>\n",
       "      <td>NaN</td>\n",
       "      <td>NaN</td>\n",
       "      <td>4019.0</td>\n",
       "    </tr>\n",
       "    <tr>\n",
       "      <th>1</th>\n",
       "      <td>2</td>\n",
       "      <td>1035000.0</td>\n",
       "      <td>2.5</td>\n",
       "      <td>2.0</td>\n",
       "      <td>1.0</td>\n",
       "      <td>0.0</td>\n",
       "      <td>156.0</td>\n",
       "      <td>79.0</td>\n",
       "      <td>1900.0</td>\n",
       "      <td>4019.0</td>\n",
       "    </tr>\n",
       "    <tr>\n",
       "      <th>2</th>\n",
       "      <td>3</td>\n",
       "      <td>1465000.0</td>\n",
       "      <td>2.5</td>\n",
       "      <td>3.0</td>\n",
       "      <td>2.0</td>\n",
       "      <td>0.0</td>\n",
       "      <td>134.0</td>\n",
       "      <td>150.0</td>\n",
       "      <td>1900.0</td>\n",
       "      <td>4019.0</td>\n",
       "    </tr>\n",
       "    <tr>\n",
       "      <th>3</th>\n",
       "      <td>3</td>\n",
       "      <td>850000.0</td>\n",
       "      <td>2.5</td>\n",
       "      <td>3.0</td>\n",
       "      <td>2.0</td>\n",
       "      <td>1.0</td>\n",
       "      <td>94.0</td>\n",
       "      <td>NaN</td>\n",
       "      <td>NaN</td>\n",
       "      <td>4019.0</td>\n",
       "    </tr>\n",
       "    <tr>\n",
       "      <th>4</th>\n",
       "      <td>4</td>\n",
       "      <td>1600000.0</td>\n",
       "      <td>2.5</td>\n",
       "      <td>3.0</td>\n",
       "      <td>1.0</td>\n",
       "      <td>2.0</td>\n",
       "      <td>120.0</td>\n",
       "      <td>142.0</td>\n",
       "      <td>2014.0</td>\n",
       "      <td>4019.0</td>\n",
       "    </tr>\n",
       "  </tbody>\n",
       "</table>\n",
       "</div>"
      ],
      "text/plain": [
       "   Rooms      Price  Distance  Bedroom2  Bathroom  Car  Landsize  \\\n",
       "0      2  1480000.0       2.5       2.0       1.0  1.0     202.0   \n",
       "1      2  1035000.0       2.5       2.0       1.0  0.0     156.0   \n",
       "2      3  1465000.0       2.5       3.0       2.0  0.0     134.0   \n",
       "3      3   850000.0       2.5       3.0       2.0  1.0      94.0   \n",
       "4      4  1600000.0       2.5       3.0       1.0  2.0     120.0   \n",
       "\n",
       "   BuildingArea  YearBuilt  Propertycount  \n",
       "0           NaN        NaN         4019.0  \n",
       "1          79.0     1900.0         4019.0  \n",
       "2         150.0     1900.0         4019.0  \n",
       "3           NaN        NaN         4019.0  \n",
       "4         142.0     2014.0         4019.0  "
      ]
     },
     "execution_count": 7,
     "metadata": {},
     "output_type": "execute_result"
    }
   ],
   "source": [
    "dataf.head()"
   ]
  },
  {
   "cell_type": "code",
   "execution_count": 8,
   "id": "b496a3a8-7031-4373-bf45-aa28a4988f8b",
   "metadata": {},
   "outputs": [
    {
     "data": {
      "text/html": [
       "<div>\n",
       "<style scoped>\n",
       "    .dataframe tbody tr th:only-of-type {\n",
       "        vertical-align: middle;\n",
       "    }\n",
       "\n",
       "    .dataframe tbody tr th {\n",
       "        vertical-align: top;\n",
       "    }\n",
       "\n",
       "    .dataframe thead th {\n",
       "        text-align: right;\n",
       "    }\n",
       "</style>\n",
       "<table border=\"1\" class=\"dataframe\">\n",
       "  <thead>\n",
       "    <tr style=\"text-align: right;\">\n",
       "      <th></th>\n",
       "      <th>Rooms</th>\n",
       "      <th>Price</th>\n",
       "      <th>Distance</th>\n",
       "      <th>Bedroom2</th>\n",
       "      <th>Bathroom</th>\n",
       "      <th>Car</th>\n",
       "      <th>Landsize</th>\n",
       "      <th>BuildingArea</th>\n",
       "      <th>YearBuilt</th>\n",
       "      <th>Propertycount</th>\n",
       "    </tr>\n",
       "  </thead>\n",
       "  <tbody>\n",
       "    <tr>\n",
       "      <th>13575</th>\n",
       "      <td>4</td>\n",
       "      <td>1245000.0</td>\n",
       "      <td>16.7</td>\n",
       "      <td>4.0</td>\n",
       "      <td>2.0</td>\n",
       "      <td>2.0</td>\n",
       "      <td>652.0</td>\n",
       "      <td>NaN</td>\n",
       "      <td>1981.0</td>\n",
       "      <td>7392.0</td>\n",
       "    </tr>\n",
       "    <tr>\n",
       "      <th>13576</th>\n",
       "      <td>3</td>\n",
       "      <td>1031000.0</td>\n",
       "      <td>6.8</td>\n",
       "      <td>3.0</td>\n",
       "      <td>2.0</td>\n",
       "      <td>2.0</td>\n",
       "      <td>333.0</td>\n",
       "      <td>133.0</td>\n",
       "      <td>1995.0</td>\n",
       "      <td>6380.0</td>\n",
       "    </tr>\n",
       "    <tr>\n",
       "      <th>13577</th>\n",
       "      <td>3</td>\n",
       "      <td>1170000.0</td>\n",
       "      <td>6.8</td>\n",
       "      <td>3.0</td>\n",
       "      <td>2.0</td>\n",
       "      <td>4.0</td>\n",
       "      <td>436.0</td>\n",
       "      <td>NaN</td>\n",
       "      <td>1997.0</td>\n",
       "      <td>6380.0</td>\n",
       "    </tr>\n",
       "    <tr>\n",
       "      <th>13578</th>\n",
       "      <td>4</td>\n",
       "      <td>2500000.0</td>\n",
       "      <td>6.8</td>\n",
       "      <td>4.0</td>\n",
       "      <td>1.0</td>\n",
       "      <td>5.0</td>\n",
       "      <td>866.0</td>\n",
       "      <td>157.0</td>\n",
       "      <td>1920.0</td>\n",
       "      <td>6380.0</td>\n",
       "    </tr>\n",
       "    <tr>\n",
       "      <th>13579</th>\n",
       "      <td>4</td>\n",
       "      <td>1285000.0</td>\n",
       "      <td>6.3</td>\n",
       "      <td>4.0</td>\n",
       "      <td>1.0</td>\n",
       "      <td>1.0</td>\n",
       "      <td>362.0</td>\n",
       "      <td>112.0</td>\n",
       "      <td>1920.0</td>\n",
       "      <td>6543.0</td>\n",
       "    </tr>\n",
       "  </tbody>\n",
       "</table>\n",
       "</div>"
      ],
      "text/plain": [
       "       Rooms      Price  Distance  Bedroom2  Bathroom  Car  Landsize  \\\n",
       "13575      4  1245000.0      16.7       4.0       2.0  2.0     652.0   \n",
       "13576      3  1031000.0       6.8       3.0       2.0  2.0     333.0   \n",
       "13577      3  1170000.0       6.8       3.0       2.0  4.0     436.0   \n",
       "13578      4  2500000.0       6.8       4.0       1.0  5.0     866.0   \n",
       "13579      4  1285000.0       6.3       4.0       1.0  1.0     362.0   \n",
       "\n",
       "       BuildingArea  YearBuilt  Propertycount  \n",
       "13575           NaN     1981.0         7392.0  \n",
       "13576         133.0     1995.0         6380.0  \n",
       "13577           NaN     1997.0         6380.0  \n",
       "13578         157.0     1920.0         6380.0  \n",
       "13579         112.0     1920.0         6543.0  "
      ]
     },
     "execution_count": 8,
     "metadata": {},
     "output_type": "execute_result"
    }
   ],
   "source": [
    "dataf.tail()"
   ]
  },
  {
   "cell_type": "code",
   "execution_count": 9,
   "id": "322454e6-e4e3-47cd-8c4d-0f4182616d9e",
   "metadata": {},
   "outputs": [
    {
     "name": "stdout",
     "output_type": "stream",
     "text": [
      "['Car', 'BuildingArea', 'YearBuilt']\n"
     ]
    }
   ],
   "source": [
    "missing_df=dataf.columns[dataf.isnull().any()].tolist()\n",
    "print(missing_df)"
   ]
  },
  {
   "cell_type": "code",
   "execution_count": 10,
   "id": "59e27c42-d06c-4c24-be1f-3d1f575a1927",
   "metadata": {},
   "outputs": [],
   "source": [
    "dataf['Car'].fillna(dataf['Car'].mean(),inplace=True)"
   ]
  },
  {
   "cell_type": "code",
   "execution_count": 11,
   "id": "14438f3b-0cea-4693-ae05-76eed3921b7b",
   "metadata": {},
   "outputs": [],
   "source": [
    "dataf['BuildingArea'].fillna(dataf['BuildingArea'].mean(),inplace=True)"
   ]
  },
  {
   "cell_type": "code",
   "execution_count": 12,
   "id": "b8959ebf-81e5-4593-ae4e-245411c4daa1",
   "metadata": {},
   "outputs": [],
   "source": [
    "dataf['YearBuilt'].fillna(dataf['YearBuilt'].mean(),inplace=True)"
   ]
  },
  {
   "cell_type": "code",
   "execution_count": 13,
   "id": "bb88b643-7579-442d-a35b-874d7a7bbf2e",
   "metadata": {},
   "outputs": [
    {
     "data": {
      "text/plain": [
       "Rooms            0\n",
       "Price            0\n",
       "Distance         0\n",
       "Bedroom2         0\n",
       "Bathroom         0\n",
       "Car              0\n",
       "Landsize         0\n",
       "BuildingArea     0\n",
       "YearBuilt        0\n",
       "Propertycount    0\n",
       "dtype: int64"
      ]
     },
     "execution_count": 13,
     "metadata": {},
     "output_type": "execute_result"
    }
   ],
   "source": [
    "dataf.isnull().sum()"
   ]
  },
  {
   "cell_type": "code",
   "execution_count": 14,
   "id": "900b19ff-ea85-49ca-8165-6fddc90e05f1",
   "metadata": {},
   "outputs": [
    {
     "data": {
      "text/html": [
       "<div>\n",
       "<style scoped>\n",
       "    .dataframe tbody tr th:only-of-type {\n",
       "        vertical-align: middle;\n",
       "    }\n",
       "\n",
       "    .dataframe tbody tr th {\n",
       "        vertical-align: top;\n",
       "    }\n",
       "\n",
       "    .dataframe thead th {\n",
       "        text-align: right;\n",
       "    }\n",
       "</style>\n",
       "<table border=\"1\" class=\"dataframe\">\n",
       "  <thead>\n",
       "    <tr style=\"text-align: right;\">\n",
       "      <th></th>\n",
       "      <th>Rooms</th>\n",
       "      <th>Price</th>\n",
       "      <th>Distance</th>\n",
       "      <th>Bedroom2</th>\n",
       "      <th>Bathroom</th>\n",
       "      <th>Car</th>\n",
       "      <th>Landsize</th>\n",
       "      <th>BuildingArea</th>\n",
       "      <th>YearBuilt</th>\n",
       "      <th>Propertycount</th>\n",
       "    </tr>\n",
       "  </thead>\n",
       "  <tbody>\n",
       "    <tr>\n",
       "      <th>0</th>\n",
       "      <td>2</td>\n",
       "      <td>1480000.0</td>\n",
       "      <td>2.5</td>\n",
       "      <td>2.0</td>\n",
       "      <td>1.0</td>\n",
       "      <td>1.0</td>\n",
       "      <td>202.0</td>\n",
       "      <td>151.96765</td>\n",
       "      <td>1964.684217</td>\n",
       "      <td>4019.0</td>\n",
       "    </tr>\n",
       "    <tr>\n",
       "      <th>1</th>\n",
       "      <td>2</td>\n",
       "      <td>1035000.0</td>\n",
       "      <td>2.5</td>\n",
       "      <td>2.0</td>\n",
       "      <td>1.0</td>\n",
       "      <td>0.0</td>\n",
       "      <td>156.0</td>\n",
       "      <td>79.00000</td>\n",
       "      <td>1900.000000</td>\n",
       "      <td>4019.0</td>\n",
       "    </tr>\n",
       "    <tr>\n",
       "      <th>2</th>\n",
       "      <td>3</td>\n",
       "      <td>1465000.0</td>\n",
       "      <td>2.5</td>\n",
       "      <td>3.0</td>\n",
       "      <td>2.0</td>\n",
       "      <td>0.0</td>\n",
       "      <td>134.0</td>\n",
       "      <td>150.00000</td>\n",
       "      <td>1900.000000</td>\n",
       "      <td>4019.0</td>\n",
       "    </tr>\n",
       "    <tr>\n",
       "      <th>3</th>\n",
       "      <td>3</td>\n",
       "      <td>850000.0</td>\n",
       "      <td>2.5</td>\n",
       "      <td>3.0</td>\n",
       "      <td>2.0</td>\n",
       "      <td>1.0</td>\n",
       "      <td>94.0</td>\n",
       "      <td>151.96765</td>\n",
       "      <td>1964.684217</td>\n",
       "      <td>4019.0</td>\n",
       "    </tr>\n",
       "    <tr>\n",
       "      <th>4</th>\n",
       "      <td>4</td>\n",
       "      <td>1600000.0</td>\n",
       "      <td>2.5</td>\n",
       "      <td>3.0</td>\n",
       "      <td>1.0</td>\n",
       "      <td>2.0</td>\n",
       "      <td>120.0</td>\n",
       "      <td>142.00000</td>\n",
       "      <td>2014.000000</td>\n",
       "      <td>4019.0</td>\n",
       "    </tr>\n",
       "  </tbody>\n",
       "</table>\n",
       "</div>"
      ],
      "text/plain": [
       "   Rooms      Price  Distance  Bedroom2  Bathroom  Car  Landsize  \\\n",
       "0      2  1480000.0       2.5       2.0       1.0  1.0     202.0   \n",
       "1      2  1035000.0       2.5       2.0       1.0  0.0     156.0   \n",
       "2      3  1465000.0       2.5       3.0       2.0  0.0     134.0   \n",
       "3      3   850000.0       2.5       3.0       2.0  1.0      94.0   \n",
       "4      4  1600000.0       2.5       3.0       1.0  2.0     120.0   \n",
       "\n",
       "   BuildingArea    YearBuilt  Propertycount  \n",
       "0     151.96765  1964.684217         4019.0  \n",
       "1      79.00000  1900.000000         4019.0  \n",
       "2     150.00000  1900.000000         4019.0  \n",
       "3     151.96765  1964.684217         4019.0  \n",
       "4     142.00000  2014.000000         4019.0  "
      ]
     },
     "execution_count": 14,
     "metadata": {},
     "output_type": "execute_result"
    }
   ],
   "source": [
    "dataf.head()"
   ]
  },
  {
   "cell_type": "code",
   "execution_count": 15,
   "id": "313eab72-c3bc-4bac-a3de-eb80406a3d29",
   "metadata": {},
   "outputs": [
    {
     "name": "stdout",
     "output_type": "stream",
     "text": [
      "[[2.00000000e+00 1.48000000e+06 2.50000000e+00 ... 2.02000000e+02\n",
      "  1.51967650e+02 1.96468422e+03]\n",
      " [2.00000000e+00 1.03500000e+06 2.50000000e+00 ... 1.56000000e+02\n",
      "  7.90000000e+01 1.90000000e+03]\n",
      " [3.00000000e+00 1.46500000e+06 2.50000000e+00 ... 1.34000000e+02\n",
      "  1.50000000e+02 1.90000000e+03]\n",
      " ...\n",
      " [3.00000000e+00 1.17000000e+06 6.80000000e+00 ... 4.36000000e+02\n",
      "  1.51967650e+02 1.99700000e+03]\n",
      " [4.00000000e+00 2.50000000e+06 6.80000000e+00 ... 8.66000000e+02\n",
      "  1.57000000e+02 1.92000000e+03]\n",
      " [4.00000000e+00 1.28500000e+06 6.30000000e+00 ... 3.62000000e+02\n",
      "  1.12000000e+02 1.92000000e+03]]\n"
     ]
    }
   ],
   "source": [
    "x1 = dataf.iloc[:,:-1].values\n",
    "print(x1)"
   ]
  },
  {
   "cell_type": "code",
   "execution_count": 16,
   "id": "3c6e7e06-ef01-4176-97bc-906dc1f7731e",
   "metadata": {},
   "outputs": [
    {
     "data": {
      "text/html": [
       "<div>\n",
       "<style scoped>\n",
       "    .dataframe tbody tr th:only-of-type {\n",
       "        vertical-align: middle;\n",
       "    }\n",
       "\n",
       "    .dataframe tbody tr th {\n",
       "        vertical-align: top;\n",
       "    }\n",
       "\n",
       "    .dataframe thead th {\n",
       "        text-align: right;\n",
       "    }\n",
       "</style>\n",
       "<table border=\"1\" class=\"dataframe\">\n",
       "  <thead>\n",
       "    <tr style=\"text-align: right;\">\n",
       "      <th></th>\n",
       "      <th>Rooms</th>\n",
       "      <th>Price</th>\n",
       "      <th>Distance</th>\n",
       "      <th>Bedroom2</th>\n",
       "      <th>Bathroom</th>\n",
       "      <th>Car</th>\n",
       "      <th>Landsize</th>\n",
       "      <th>BuildingArea</th>\n",
       "      <th>YearBuilt</th>\n",
       "      <th>Propertycount</th>\n",
       "    </tr>\n",
       "  </thead>\n",
       "  <tbody>\n",
       "    <tr>\n",
       "      <th>13575</th>\n",
       "      <td>4</td>\n",
       "      <td>1245000.0</td>\n",
       "      <td>16.7</td>\n",
       "      <td>4.0</td>\n",
       "      <td>2.0</td>\n",
       "      <td>2.0</td>\n",
       "      <td>652.0</td>\n",
       "      <td>151.96765</td>\n",
       "      <td>1981.0</td>\n",
       "      <td>7392.0</td>\n",
       "    </tr>\n",
       "    <tr>\n",
       "      <th>13576</th>\n",
       "      <td>3</td>\n",
       "      <td>1031000.0</td>\n",
       "      <td>6.8</td>\n",
       "      <td>3.0</td>\n",
       "      <td>2.0</td>\n",
       "      <td>2.0</td>\n",
       "      <td>333.0</td>\n",
       "      <td>133.00000</td>\n",
       "      <td>1995.0</td>\n",
       "      <td>6380.0</td>\n",
       "    </tr>\n",
       "    <tr>\n",
       "      <th>13577</th>\n",
       "      <td>3</td>\n",
       "      <td>1170000.0</td>\n",
       "      <td>6.8</td>\n",
       "      <td>3.0</td>\n",
       "      <td>2.0</td>\n",
       "      <td>4.0</td>\n",
       "      <td>436.0</td>\n",
       "      <td>151.96765</td>\n",
       "      <td>1997.0</td>\n",
       "      <td>6380.0</td>\n",
       "    </tr>\n",
       "    <tr>\n",
       "      <th>13578</th>\n",
       "      <td>4</td>\n",
       "      <td>2500000.0</td>\n",
       "      <td>6.8</td>\n",
       "      <td>4.0</td>\n",
       "      <td>1.0</td>\n",
       "      <td>5.0</td>\n",
       "      <td>866.0</td>\n",
       "      <td>157.00000</td>\n",
       "      <td>1920.0</td>\n",
       "      <td>6380.0</td>\n",
       "    </tr>\n",
       "    <tr>\n",
       "      <th>13579</th>\n",
       "      <td>4</td>\n",
       "      <td>1285000.0</td>\n",
       "      <td>6.3</td>\n",
       "      <td>4.0</td>\n",
       "      <td>1.0</td>\n",
       "      <td>1.0</td>\n",
       "      <td>362.0</td>\n",
       "      <td>112.00000</td>\n",
       "      <td>1920.0</td>\n",
       "      <td>6543.0</td>\n",
       "    </tr>\n",
       "  </tbody>\n",
       "</table>\n",
       "</div>"
      ],
      "text/plain": [
       "       Rooms      Price  Distance  Bedroom2  Bathroom  Car  Landsize  \\\n",
       "13575      4  1245000.0      16.7       4.0       2.0  2.0     652.0   \n",
       "13576      3  1031000.0       6.8       3.0       2.0  2.0     333.0   \n",
       "13577      3  1170000.0       6.8       3.0       2.0  4.0     436.0   \n",
       "13578      4  2500000.0       6.8       4.0       1.0  5.0     866.0   \n",
       "13579      4  1285000.0       6.3       4.0       1.0  1.0     362.0   \n",
       "\n",
       "       BuildingArea  YearBuilt  Propertycount  \n",
       "13575     151.96765     1981.0         7392.0  \n",
       "13576     133.00000     1995.0         6380.0  \n",
       "13577     151.96765     1997.0         6380.0  \n",
       "13578     157.00000     1920.0         6380.0  \n",
       "13579     112.00000     1920.0         6543.0  "
      ]
     },
     "execution_count": 16,
     "metadata": {},
     "output_type": "execute_result"
    }
   ],
   "source": [
    "dataf.tail()"
   ]
  },
  {
   "cell_type": "code",
   "execution_count": 17,
   "id": "1406247e-9526-4daf-9555-f0b22425c966",
   "metadata": {},
   "outputs": [],
   "source": [
    "X = dataf.drop('Price', axis=1) \n",
    "y = dataf['Price']"
   ]
  },
  {
   "cell_type": "markdown",
   "id": "ae141576-7fd4-445e-a454-6b856bae90b5",
   "metadata": {},
   "source": [
    "**Correlation**"
   ]
  },
  {
   "cell_type": "code",
   "execution_count": 18,
   "id": "782141cc-6697-4447-9031-66c8dfdd2212",
   "metadata": {},
   "outputs": [
    {
     "data": {
      "text/html": [
       "<div>\n",
       "<style scoped>\n",
       "    .dataframe tbody tr th:only-of-type {\n",
       "        vertical-align: middle;\n",
       "    }\n",
       "\n",
       "    .dataframe tbody tr th {\n",
       "        vertical-align: top;\n",
       "    }\n",
       "\n",
       "    .dataframe thead th {\n",
       "        text-align: right;\n",
       "    }\n",
       "</style>\n",
       "<table border=\"1\" class=\"dataframe\">\n",
       "  <thead>\n",
       "    <tr style=\"text-align: right;\">\n",
       "      <th></th>\n",
       "      <th>Rooms</th>\n",
       "      <th>Price</th>\n",
       "      <th>Distance</th>\n",
       "      <th>Bedroom2</th>\n",
       "      <th>Bathroom</th>\n",
       "      <th>Car</th>\n",
       "      <th>Landsize</th>\n",
       "      <th>BuildingArea</th>\n",
       "      <th>YearBuilt</th>\n",
       "      <th>Propertycount</th>\n",
       "    </tr>\n",
       "  </thead>\n",
       "  <tbody>\n",
       "    <tr>\n",
       "      <th>Rooms</th>\n",
       "      <td>1.00</td>\n",
       "      <td>0.50</td>\n",
       "      <td>0.29</td>\n",
       "      <td>0.94</td>\n",
       "      <td>0.59</td>\n",
       "      <td>0.41</td>\n",
       "      <td>0.03</td>\n",
       "      <td>0.09</td>\n",
       "      <td>-0.05</td>\n",
       "      <td>-0.08</td>\n",
       "    </tr>\n",
       "    <tr>\n",
       "      <th>Price</th>\n",
       "      <td>0.50</td>\n",
       "      <td>1.00</td>\n",
       "      <td>-0.16</td>\n",
       "      <td>0.48</td>\n",
       "      <td>0.47</td>\n",
       "      <td>0.24</td>\n",
       "      <td>0.04</td>\n",
       "      <td>0.07</td>\n",
       "      <td>-0.26</td>\n",
       "      <td>-0.04</td>\n",
       "    </tr>\n",
       "    <tr>\n",
       "      <th>Distance</th>\n",
       "      <td>0.29</td>\n",
       "      <td>-0.16</td>\n",
       "      <td>1.00</td>\n",
       "      <td>0.30</td>\n",
       "      <td>0.13</td>\n",
       "      <td>0.26</td>\n",
       "      <td>0.03</td>\n",
       "      <td>0.07</td>\n",
       "      <td>0.19</td>\n",
       "      <td>-0.05</td>\n",
       "    </tr>\n",
       "    <tr>\n",
       "      <th>Bedroom2</th>\n",
       "      <td>0.94</td>\n",
       "      <td>0.48</td>\n",
       "      <td>0.30</td>\n",
       "      <td>1.00</td>\n",
       "      <td>0.58</td>\n",
       "      <td>0.40</td>\n",
       "      <td>0.03</td>\n",
       "      <td>0.09</td>\n",
       "      <td>-0.04</td>\n",
       "      <td>-0.08</td>\n",
       "    </tr>\n",
       "    <tr>\n",
       "      <th>Bathroom</th>\n",
       "      <td>0.59</td>\n",
       "      <td>0.47</td>\n",
       "      <td>0.13</td>\n",
       "      <td>0.58</td>\n",
       "      <td>1.00</td>\n",
       "      <td>0.32</td>\n",
       "      <td>0.04</td>\n",
       "      <td>0.08</td>\n",
       "      <td>0.12</td>\n",
       "      <td>-0.05</td>\n",
       "    </tr>\n",
       "    <tr>\n",
       "      <th>Car</th>\n",
       "      <td>0.41</td>\n",
       "      <td>0.24</td>\n",
       "      <td>0.26</td>\n",
       "      <td>0.40</td>\n",
       "      <td>0.32</td>\n",
       "      <td>1.00</td>\n",
       "      <td>0.03</td>\n",
       "      <td>0.07</td>\n",
       "      <td>0.08</td>\n",
       "      <td>-0.02</td>\n",
       "    </tr>\n",
       "    <tr>\n",
       "      <th>Landsize</th>\n",
       "      <td>0.03</td>\n",
       "      <td>0.04</td>\n",
       "      <td>0.03</td>\n",
       "      <td>0.03</td>\n",
       "      <td>0.04</td>\n",
       "      <td>0.03</td>\n",
       "      <td>1.00</td>\n",
       "      <td>0.09</td>\n",
       "      <td>0.01</td>\n",
       "      <td>-0.01</td>\n",
       "    </tr>\n",
       "    <tr>\n",
       "      <th>BuildingArea</th>\n",
       "      <td>0.09</td>\n",
       "      <td>0.07</td>\n",
       "      <td>0.07</td>\n",
       "      <td>0.09</td>\n",
       "      <td>0.08</td>\n",
       "      <td>0.07</td>\n",
       "      <td>0.09</td>\n",
       "      <td>1.00</td>\n",
       "      <td>0.00</td>\n",
       "      <td>-0.02</td>\n",
       "    </tr>\n",
       "    <tr>\n",
       "      <th>YearBuilt</th>\n",
       "      <td>-0.05</td>\n",
       "      <td>-0.26</td>\n",
       "      <td>0.19</td>\n",
       "      <td>-0.04</td>\n",
       "      <td>0.12</td>\n",
       "      <td>0.08</td>\n",
       "      <td>0.01</td>\n",
       "      <td>0.00</td>\n",
       "      <td>1.00</td>\n",
       "      <td>0.00</td>\n",
       "    </tr>\n",
       "    <tr>\n",
       "      <th>Propertycount</th>\n",
       "      <td>-0.08</td>\n",
       "      <td>-0.04</td>\n",
       "      <td>-0.05</td>\n",
       "      <td>-0.08</td>\n",
       "      <td>-0.05</td>\n",
       "      <td>-0.02</td>\n",
       "      <td>-0.01</td>\n",
       "      <td>-0.02</td>\n",
       "      <td>0.00</td>\n",
       "      <td>1.00</td>\n",
       "    </tr>\n",
       "  </tbody>\n",
       "</table>\n",
       "</div>"
      ],
      "text/plain": [
       "               Rooms  Price  Distance  Bedroom2  Bathroom   Car  Landsize  \\\n",
       "Rooms           1.00   0.50      0.29      0.94      0.59  0.41      0.03   \n",
       "Price           0.50   1.00     -0.16      0.48      0.47  0.24      0.04   \n",
       "Distance        0.29  -0.16      1.00      0.30      0.13  0.26      0.03   \n",
       "Bedroom2        0.94   0.48      0.30      1.00      0.58  0.40      0.03   \n",
       "Bathroom        0.59   0.47      0.13      0.58      1.00  0.32      0.04   \n",
       "Car             0.41   0.24      0.26      0.40      0.32  1.00      0.03   \n",
       "Landsize        0.03   0.04      0.03      0.03      0.04  0.03      1.00   \n",
       "BuildingArea    0.09   0.07      0.07      0.09      0.08  0.07      0.09   \n",
       "YearBuilt      -0.05  -0.26      0.19     -0.04      0.12  0.08      0.01   \n",
       "Propertycount  -0.08  -0.04     -0.05     -0.08     -0.05 -0.02     -0.01   \n",
       "\n",
       "               BuildingArea  YearBuilt  Propertycount  \n",
       "Rooms                  0.09      -0.05          -0.08  \n",
       "Price                  0.07      -0.26          -0.04  \n",
       "Distance               0.07       0.19          -0.05  \n",
       "Bedroom2               0.09      -0.04          -0.08  \n",
       "Bathroom               0.08       0.12          -0.05  \n",
       "Car                    0.07       0.08          -0.02  \n",
       "Landsize               0.09       0.01          -0.01  \n",
       "BuildingArea           1.00       0.00          -0.02  \n",
       "YearBuilt              0.00       1.00           0.00  \n",
       "Propertycount         -0.02       0.00           1.00  "
      ]
     },
     "execution_count": 18,
     "metadata": {},
     "output_type": "execute_result"
    }
   ],
   "source": [
    "housing_corr= dataf.corr().round(2)\n",
    "housing_corr"
   ]
  },
  {
   "cell_type": "code",
   "execution_count": 19,
   "id": "d3d046a2-f112-4a70-b04b-b80c2a82b603",
   "metadata": {},
   "outputs": [
    {
     "data": {
      "image/png": "[encoded data removed]",
      "text/plain": [
       "<Figure size 1000x500 with 2 Axes>"
      ]
     },
     "metadata": {},
     "output_type": "display_data"
    }
   ],
   "source": [
    "correlation = dataf.corr()\n",
    "plt.figure(figsize=(10, 5))\n",
    "sea.heatmap(correlation, annot=True)\n",
    "plt.title('Correlation Heatmap')\n",
    "plt.show()"
   ]
  },
  {
   "cell_type": "markdown",
   "id": "0523e061-a9b6-4068-ab49-cc31418b0a81",
   "metadata": {},
   "source": [
    "**Chi Square**"
   ]
  },
  {
   "cell_type": "code",
   "execution_count": 20,
   "id": "0d83bfc4-8602-4ddf-8d1f-f0f6df7a2a9e",
   "metadata": {},
   "outputs": [
    {
     "name": "stdout",
     "output_type": "stream",
     "text": [
      "Index(['Rooms', 'Distance', 'Landsize', 'BuildingArea', 'Propertycount'], dtype='object')\n"
     ]
    }
   ],
   "source": [
    "selector = SelectKBest(score_func=chi2, k=5)\n",
    "new_data = selector.fit_transform(X, y)\n",
    "\n",
    "mask = selector.get_support()\n",
    "best_features = X.columns[mask]\n",
    "print(best_features)\n"
   ]
  },
  {
   "cell_type": "markdown",
   "id": "0975ffa3-94f4-485a-8d67-ea4eda7e5251",
   "metadata": {},
   "source": [
    "**Mutual Information**"
   ]
  },
  {
   "cell_type": "code",
   "execution_count": 21,
   "id": "1a6f44b6-4499-4dc2-888b-d2f9f3a04c67",
   "metadata": {},
   "outputs": [],
   "source": [
    "m_info=mutual_info_regression(X, y)"
   ]
  },
  {
   "cell_type": "code",
   "execution_count": 22,
   "id": "ff8900e4-960a-4ab7-8a3e-008b43d559dc",
   "metadata": {},
   "outputs": [
    {
     "name": "stdout",
     "output_type": "stream",
     "text": [
      "         Feature  MI Score\n",
      "0          Rooms      0.22\n",
      "1       Distance      0.21\n",
      "2       Bedroom2      0.21\n",
      "3       Bathroom      0.13\n",
      "4            Car      0.09\n",
      "5       Landsize      0.14\n",
      "6   BuildingArea      0.20\n",
      "7      YearBuilt      0.11\n",
      "8  Propertycount      0.21\n"
     ]
    }
   ],
   "source": [
    "mi_info_df = pd.DataFrame({'Feature': X.columns, 'MI Score': m_info})\n",
    "print(mi_info_df.round(2))"
   ]
  },
  {
   "cell_type": "code",
   "execution_count": 23,
   "id": "3110c2da-984b-46b9-ae8f-73d1c1f631a1",
   "metadata": {},
   "outputs": [
    {
     "data": {
      "image/png": "[encoded data removed]",
      "text/plain": [
       "<Figure size 1000x600 with 1 Axes>"
      ]
     },
     "metadata": {},
     "output_type": "display_data"
    }
   ],
   "source": [
    "plt.figure(figsize=(10, 6))\n",
    "plt.barh(mi_info_df['Feature'], mi_info_df['MI Score'])\n",
    "plt.xlabel('Mutual Information Score')\n",
    "plt.ylabel('Features')\n",
    "plt.title('Feature Importance - Mutual Information')\n",
    "plt.show()"
   ]
  },
  {
   "cell_type": "markdown",
   "id": "c3d42dbc-9d08-4f70-afd8-3901b5e3fa7e",
   "metadata": {},
   "source": [
    "**Random Forest Feature Importance**"
   ]
  },
  {
   "cell_type": "code",
   "execution_count": 24,
   "id": "c5f403a0-c0a4-4fc9-85e3-8cb45eda31bd",
   "metadata": {},
   "outputs": [],
   "source": [
    "X_train, X_test, y_train, y_test = train_test_split(X, y, test_size=0.2, random_state=42)"
   ]
  },
  {
   "cell_type": "code",
   "execution_count": 25,
   "id": "179c83e2-cd14-42ae-a442-e9ed9d28f7c0",
   "metadata": {},
   "outputs": [],
   "source": [
    "rf_model=RandomForestClassifier()   "
   ]
  },
  {
   "cell_type": "code",
   "execution_count": 26,
   "id": "1b31a261-9ba2-421c-b83b-3652b694bb46",
   "metadata": {},
   "outputs": [
    {
     "data": {
      "text/html": [
       "<style>#sk-container-id-1 {color: black;background-color: white;}#sk-container-id-1 pre{padding: 0;}#sk-container-id-1 div.sk-toggleable {background-color: white;}#sk-container-id-1 label.sk-toggleable__label {cursor: pointer;display: block;width: 100%;margin-bottom: 0;padding: 0.3em;box-sizing: border-box;text-align: center;}#sk-container-id-1 label.sk-toggleable__label-arrow:before {content: \"▸\";float: left;margin-right: 0.25em;color: #696969;}#sk-container-id-1 label.sk-toggleable__label-arrow:hover:before {color: black;}#sk-container-id-1 div.sk-estimator:hover label.sk-toggleable__label-arrow:before {color: black;}#sk-container-id-1 div.sk-toggleable__content {max-height: 0;max-width: 0;overflow: hidden;text-align: left;background-color: #f0f8ff;}#sk-container-id-1 div.sk-toggleable__content pre {margin: 0.2em;color: black;border-radius: 0.25em;background-color: #f0f8ff;}#sk-container-id-1 input.sk-toggleable__control:checked~div.sk-toggleable__content {max-height: 200px;max-width: 100%;overflow: auto;}#sk-container-id-1 input.sk-toggleable__control:checked~label.sk-toggleable__label-arrow:before {content: \"▾\";}#sk-container-id-1 div.sk-estimator input.sk-toggleable__control:checked~label.sk-toggleable__label {background-color: #d4ebff;}#sk-container-id-1 div.sk-label input.sk-toggleable__control:checked~label.sk-toggleable__label {background-color: #d4ebff;}#sk-container-id-1 input.sk-hidden--visually {border: 0;clip: rect(1px 1px 1px 1px);clip: rect(1px, 1px, 1px, 1px);height: 1px;margin: -1px;overflow: hidden;padding: 0;position: absolute;width: 1px;}#sk-container-id-1 div.sk-estimator {font-family: monospace;background-color: #f0f8ff;border: 1px dotted black;border-radius: 0.25em;box-sizing: border-box;margin-bottom: 0.5em;}#sk-container-id-1 div.sk-estimator:hover {background-color: #d4ebff;}#sk-container-id-1 div.sk-parallel-item::after {content: \"\";width: 100%;border-bottom: 1px solid gray;flex-grow: 1;}#sk-container-id-1 div.sk-label:hover label.sk-toggleable__label {background-color: #d4ebff;}#sk-container-id-1 div.sk-serial::before {content: \"\";position: absolute;border-left: 1px solid gray;box-sizing: border-box;top: 0;bottom: 0;left: 50%;z-index: 0;}#sk-container-id-1 div.sk-serial {display: flex;flex-direction: column;align-items: center;background-color: white;padding-right: 0.2em;padding-left: 0.2em;position: relative;}#sk-container-id-1 div.sk-item {position: relative;z-index: 1;}#sk-container-id-1 div.sk-parallel {display: flex;align-items: stretch;justify-content: center;background-color: white;position: relative;}#sk-container-id-1 div.sk-item::before, #sk-container-id-1 div.sk-parallel-item::before {content: \"\";position: absolute;border-left: 1px solid gray;box-sizing: border-box;top: 0;bottom: 0;left: 50%;z-index: -1;}#sk-container-id-1 div.sk-parallel-item {display: flex;flex-direction: column;z-index: 1;position: relative;background-color: white;}#sk-container-id-1 div.sk-parallel-item:first-child::after {align-self: flex-end;width: 50%;}#sk-container-id-1 div.sk-parallel-item:last-child::after {align-self: flex-start;width: 50%;}#sk-container-id-1 div.sk-parallel-item:only-child::after {width: 0;}#sk-container-id-1 div.sk-dashed-wrapped {border: 1px dashed gray;margin: 0 0.4em 0.5em 0.4em;box-sizing: border-box;padding-bottom: 0.4em;background-color: white;}#sk-container-id-1 div.sk-label label {font-family: monospace;font-weight: bold;display: inline-block;line-height: 1.2em;}#sk-container-id-1 div.sk-label-container {text-align: center;}#sk-container-id-1 div.sk-container {/* jupyter's `normalize.less` sets `[hidden] { display: none; }` but bootstrap.min.css set `[hidden] { display: none !important; }` so we also need the `!important` here to be able to override the default hidden behavior on the sphinx rendered scikit-learn.org. See: https://github.com/scikit-learn/scikit-learn/issues/21755 */display: inline-block !important;position: relative;}#sk-container-id-1 div.sk-text-repr-fallback {display: none;}</style><div id=\"sk-container-id-1\" class=\"sk-top-container\"><div class=\"sk-text-repr-fallback\"><pre>RandomForestClassifier()</pre><b>In a Jupyter environment, please rerun this cell to show the HTML representation or trust the notebook. <br />On GitHub, the HTML representation is unable to render, please try loading this page with nbviewer.org.</b></div><div class=\"sk-container\" hidden><div class=\"sk-item\"><div class=\"sk-estimator sk-toggleable\"><input class=\"sk-toggleable__control sk-hidden--visually\" id=\"sk-estimator-id-1\" type=\"checkbox\" checked><label for=\"sk-estimator-id-1\" class=\"sk-toggleable__label sk-toggleable__label-arrow\">RandomForestClassifier</label><div class=\"sk-toggleable__content\"><pre>RandomForestClassifier()</pre></div></div></div></div></div>"
      ],
      "text/plain": [
       "RandomForestClassifier()"
      ]
     },
     "execution_count": 26,
     "metadata": {},
     "output_type": "execute_result"
    }
   ],
   "source": [
    "rf_model.fit(X_train,y_train)"
   ]
  },
  {
   "cell_type": "code",
   "execution_count": 27,
   "id": "34b46e25-36c8-4598-a393-ca88465eb261",
   "metadata": {},
   "outputs": [
    {
     "data": {
      "text/plain": [
       "Index(['Rooms', 'Price', 'Distance', 'Bedroom2', 'Bathroom', 'Car', 'Landsize',\n",
       "       'BuildingArea', 'YearBuilt', 'Propertycount'],\n",
       "      dtype='object')"
      ]
     },
     "execution_count": 27,
     "metadata": {},
     "output_type": "execute_result"
    }
   ],
   "source": [
    "dataf.columns"
   ]
  },
  {
   "cell_type": "code",
   "execution_count": 28,
   "id": "428db526-5542-49c8-8727-88bf93fcbbb7",
   "metadata": {},
   "outputs": [],
   "source": [
    "feature=['Rooms', 'Distance', 'Bedroom2', 'Bathroom', 'Car', 'Landsize','BuildingArea', 'YearBuilt', 'Propertycount']"
   ]
  },
  {
   "cell_type": "code",
   "execution_count": 29,
   "id": "aa3d0d3a-d83a-4827-b55c-0cb870e11a76",
   "metadata": {},
   "outputs": [
    {
     "name": "stdout",
     "output_type": "stream",
     "text": [
      "Feature: 0 = 0.022918038020249887\n",
      "Feature: 1 = 0.1742385579432305\n",
      "Feature: 2 = 0.02624442005945208\n",
      "Feature: 3 = 0.03386134281699734\n",
      "Feature: 4 = 0.07125638879456776\n",
      "Feature: 5 = 0.2343770978898287\n",
      "Feature: 6 = 0.1348157230127904\n",
      "Feature: 7 = 0.12799218702858464\n",
      "Feature: 8 = 0.1742962444342987\n"
     ]
    }
   ],
   "source": [
    "importances = rf_model.feature_importances_\n",
    "a=0\n",
    "for i in importances:\n",
    "    print(\"Feature:\",a,\"=\",i)\n",
    "    a+=1"
   ]
  },
  {
   "cell_type": "code",
   "execution_count": 30,
   "id": "e82fb10a-1672-470d-9597-bf1d7361254b",
   "metadata": {},
   "outputs": [
    {
     "data": {
      "image/png": "[encoded data removed]",
      "text/plain": [
       "<Figure size 640x480 with 1 Axes>"
      ]
     },
     "metadata": {},
     "output_type": "display_data"
    }
   ],
   "source": [
    "plt.bar(range(len(importances)),importances,color='orange')\n",
    "plt.xticks(range(len(importances)),feature,rotation='vertical')\n",
    "plt.xlabel('\\n Feature ')\n",
    "plt.ylabel('Importance')\n",
    "plt.show()"
   ]
  },
  {
   "cell_type": "markdown",
   "id": "6aec02b2-df86-48a2-855b-d2087d70dfc8",
   "metadata": {},
   "source": [
    "**The correlation heatmap shows that landsize a positive correaltio with all the other features,Apart from that bedroom and rooms also have a strong positive correlation.According to mutual information, distance,land size,property count,building area seem to be the high contributors . According to the best features in random forest landsize is at the highest value. Out of all the three tests the most prominent feature contributing the price of the house is the landsize. The best feature according to the bar chart is the landsize. Landsize seems to contribute the most to the price of the houses when compared to the other features. And the features which contributes the least are the number of bedrooms,rooms and bathroom. The beat feature selection technique which was found is through Random Forest Classifier and the worst being Mutual Information Technique because it is a little tedious, it is more confusing and less straight forward.** "
   ]
  },
  {
   "cell_type": "code",
   "execution_count": null,
   "id": "334a0376-9697-4663-b329-90ce9948752c",
   "metadata": {},
   "outputs": [],
   "source": []
  }
 ],
 "metadata": {
  "kernelspec": {
   "display_name": "Python 3 (ipykernel)",
   "language": "python",
   "name": "python3"
  },
  "language_info": {
   "codemirror_mode": {
    "name": "ipython",
    "version": 3
   },
   "file_extension": ".py",
   "mimetype": "text/x-python",
   "name": "python",
   "nbconvert_exporter": "python",
   "pygments_lexer": "ipython3",
   "version": "3.11.4"
  }
 },
 "nbformat": 4,
 "nbformat_minor": 5
}
